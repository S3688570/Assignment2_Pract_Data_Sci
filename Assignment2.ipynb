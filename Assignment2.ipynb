{
 "cells": [
  {
   "cell_type": "code",
   "execution_count": 3,
   "metadata": {},
   "outputs": [],
   "source": [
    "#Import packages\n",
    "import pandas as pd\n",
    "import matplotlib.pyplot as plt\n",
    "import numpy as np\n",
    "import matplotlib\n",
    "%matplotlib inline\n",
    "import seaborn as sns"
   ]
  },
  {
   "cell_type": "code",
   "execution_count": 4,
   "metadata": {},
   "outputs": [],
   "source": [
    "#Read dataset\n",
    "survival = pd.read_csv('survival_data.csv', sep=',', header=None, names=['Patient_Age', 'Year_of_Operation', 'Number_of_Nodes', 'Survival_Status'])"
   ]
  },
  {
   "cell_type": "code",
   "execution_count": 5,
   "metadata": {},
   "outputs": [
    {
     "name": "stdout",
     "output_type": "stream",
     "text": [
      "<class 'pandas.core.frame.DataFrame'>\n"
     ]
    }
   ],
   "source": [
    "print type(survival)"
   ]
  },
  {
   "cell_type": "code",
   "execution_count": 6,
   "metadata": {},
   "outputs": [
    {
     "data": {
      "text/plain": [
       "Patient_Age          int64\n",
       "Year_of_Operation    int64\n",
       "Number_of_Nodes      int64\n",
       "Survival_Status      int64\n",
       "dtype: object"
      ]
     },
     "execution_count": 6,
     "metadata": {},
     "output_type": "execute_result"
    }
   ],
   "source": [
    "#Determine data types for each feature\n",
    "survival.dtypes"
   ]
  },
  {
   "cell_type": "code",
   "execution_count": 7,
   "metadata": {},
   "outputs": [
    {
     "name": "stdout",
     "output_type": "stream",
     "text": [
      "(306, 4)\n"
     ]
    }
   ],
   "source": [
    "#Dataset dimensions\n",
    "print survival.shape"
   ]
  },
  {
   "cell_type": "code",
   "execution_count": 8,
   "metadata": {},
   "outputs": [
    {
     "data": {
      "text/plain": [
       "Index([u'Patient_Age', u'Year_of_Operation', u'Number_of_Nodes',\n",
       "       u'Survival_Status'],\n",
       "      dtype='object')"
      ]
     },
     "execution_count": 8,
     "metadata": {},
     "output_type": "execute_result"
    }
   ],
   "source": [
    "#Check column names\n",
    "survival.columns"
   ]
  },
  {
   "cell_type": "code",
   "execution_count": 9,
   "metadata": {},
   "outputs": [
    {
     "name": "stdout",
     "output_type": "stream",
     "text": [
      "     Patient_Age  Year_of_Operation  Number_of_Nodes  Survival_Status\n",
      "0             30                 64                1                1\n",
      "1             30                 62                3                1\n",
      "2             30                 65                0                1\n",
      "3             31                 59                2                1\n",
      "4             31                 65                4                1\n",
      "5             33                 58               10                1\n",
      "6             33                 60                0                1\n",
      "7             34                 59                0                2\n",
      "8             34                 66                9                2\n",
      "9             34                 58               30                1\n",
      "10            34                 60                1                1\n",
      "11            34                 61               10                1\n",
      "12            34                 67                7                1\n",
      "13            34                 60                0                1\n",
      "14            35                 64               13                1\n",
      "15            35                 63                0                1\n",
      "16            36                 60                1                1\n",
      "17            36                 69                0                1\n",
      "18            37                 60                0                1\n",
      "19            37                 63                0                1\n",
      "20            37                 58                0                1\n",
      "21            37                 59                6                1\n",
      "22            37                 60               15                1\n",
      "23            37                 63                0                1\n",
      "24            38                 69               21                2\n",
      "25            38                 59                2                1\n",
      "26            38                 60                0                1\n",
      "27            38                 60                0                1\n",
      "28            38                 62                3                1\n",
      "29            38                 64                1                1\n",
      "..           ...                ...              ...              ...\n",
      "276           67                 66                0                1\n",
      "277           67                 61                0                1\n",
      "278           67                 65                0                1\n",
      "279           68                 67                0                1\n",
      "280           68                 68                0                1\n",
      "281           69                 67                8                2\n",
      "282           69                 60                0                1\n",
      "283           69                 65                0                1\n",
      "284           69                 66                0                1\n",
      "285           70                 58                0                2\n",
      "286           70                 58                4                2\n",
      "287           70                 66               14                1\n",
      "288           70                 67                0                1\n",
      "289           70                 68                0                1\n",
      "290           70                 59                8                1\n",
      "291           70                 63                0                1\n",
      "292           71                 68                2                1\n",
      "293           72                 63                0                2\n",
      "294           72                 58                0                1\n",
      "295           72                 64                0                1\n",
      "296           72                 67                3                1\n",
      "297           73                 62                0                1\n",
      "298           73                 68                0                1\n",
      "299           74                 65                3                2\n",
      "300           74                 63                0                1\n",
      "301           75                 62                1                1\n",
      "302           76                 67                0                1\n",
      "303           77                 65                3                1\n",
      "304           78                 65                1                2\n",
      "305           83                 58                2                2\n",
      "\n",
      "[306 rows x 4 columns]\n"
     ]
    }
   ],
   "source": [
    "#Print dataset\n",
    "print(survival)"
   ]
  },
  {
   "cell_type": "code",
   "execution_count": 10,
   "metadata": {},
   "outputs": [
    {
     "name": "stdout",
     "output_type": "stream",
     "text": [
      "Number of rows: 306\n",
      "Number of columns: 4\n",
      "Columns Names: Patient_Age, Year_of_Operation, Number_of_Nodes, Survival_Status\n",
      "\n",
      "Number of target variables\n",
      "1    225\n",
      "2     81\n",
      "Name: Survival_Status, dtype: int64\n",
      "\n",
      "Proportion of target variables\n",
      "1    0.735294\n",
      "2    0.264706\n",
      "Name: Survival_Status, dtype: float64\n"
     ]
    }
   ],
   "source": [
    "#Summary of dataset\n",
    "print(\"Number of rows: \" + str(survival.shape[0]))\n",
    "print(\"Number of columns: \" + str(survival.shape[1]))\n",
    "print(\"Columns Names: \" + \", \".join(survival.columns))\n",
    "print\n",
    "print(\"Number of target variables\")\n",
    "print(survival.iloc[:,-1].value_counts())\n",
    "print\n",
    "print(\"Proportion of target variables\")\n",
    "print(survival.iloc[:,-1].value_counts(normalize = True))"
   ]
  },
  {
   "cell_type": "code",
   "execution_count": 11,
   "metadata": {},
   "outputs": [
    {
     "data": {
      "text/plain": [
       "1    225\n",
       "2     81\n",
       "Name: Survival_Status, dtype: int64"
      ]
     },
     "execution_count": 11,
     "metadata": {},
     "output_type": "execute_result"
    }
   ],
   "source": [
    "#Generate frequency table for Survival Status \n",
    "#1 = the patient survived 5 years or longer, 2 = the patient died within 5 year\n",
    "survival['Survival_Status'].value_counts()"
   ]
  },
  {
   "cell_type": "code",
   "execution_count": 12,
   "metadata": {},
   "outputs": [
    {
     "data": {
      "text/html": [
       "<div>\n",
       "<style scoped>\n",
       "    .dataframe tbody tr th:only-of-type {\n",
       "        vertical-align: middle;\n",
       "    }\n",
       "\n",
       "    .dataframe tbody tr th {\n",
       "        vertical-align: top;\n",
       "    }\n",
       "\n",
       "    .dataframe thead th {\n",
       "        text-align: right;\n",
       "    }\n",
       "</style>\n",
       "<table border=\"1\" class=\"dataframe\">\n",
       "  <thead>\n",
       "    <tr style=\"text-align: right;\">\n",
       "      <th></th>\n",
       "      <th>Patient_Age</th>\n",
       "      <th>Year_of_Operation</th>\n",
       "      <th>Number_of_Nodes</th>\n",
       "      <th>Survival_Status</th>\n",
       "    </tr>\n",
       "  </thead>\n",
       "  <tbody>\n",
       "    <tr>\n",
       "      <th>count</th>\n",
       "      <td>306.000000</td>\n",
       "      <td>306.000000</td>\n",
       "      <td>306.000000</td>\n",
       "      <td>306.000000</td>\n",
       "    </tr>\n",
       "    <tr>\n",
       "      <th>mean</th>\n",
       "      <td>52.457516</td>\n",
       "      <td>62.852941</td>\n",
       "      <td>4.026144</td>\n",
       "      <td>1.264706</td>\n",
       "    </tr>\n",
       "    <tr>\n",
       "      <th>std</th>\n",
       "      <td>10.803452</td>\n",
       "      <td>3.249405</td>\n",
       "      <td>7.189654</td>\n",
       "      <td>0.441899</td>\n",
       "    </tr>\n",
       "    <tr>\n",
       "      <th>min</th>\n",
       "      <td>30.000000</td>\n",
       "      <td>58.000000</td>\n",
       "      <td>0.000000</td>\n",
       "      <td>1.000000</td>\n",
       "    </tr>\n",
       "    <tr>\n",
       "      <th>25%</th>\n",
       "      <td>44.000000</td>\n",
       "      <td>60.000000</td>\n",
       "      <td>0.000000</td>\n",
       "      <td>1.000000</td>\n",
       "    </tr>\n",
       "    <tr>\n",
       "      <th>50%</th>\n",
       "      <td>52.000000</td>\n",
       "      <td>63.000000</td>\n",
       "      <td>1.000000</td>\n",
       "      <td>1.000000</td>\n",
       "    </tr>\n",
       "    <tr>\n",
       "      <th>75%</th>\n",
       "      <td>60.750000</td>\n",
       "      <td>65.750000</td>\n",
       "      <td>4.000000</td>\n",
       "      <td>2.000000</td>\n",
       "    </tr>\n",
       "    <tr>\n",
       "      <th>max</th>\n",
       "      <td>83.000000</td>\n",
       "      <td>69.000000</td>\n",
       "      <td>52.000000</td>\n",
       "      <td>2.000000</td>\n",
       "    </tr>\n",
       "  </tbody>\n",
       "</table>\n",
       "</div>"
      ],
      "text/plain": [
       "       Patient_Age  Year_of_Operation  Number_of_Nodes  Survival_Status\n",
       "count   306.000000         306.000000       306.000000       306.000000\n",
       "mean     52.457516          62.852941         4.026144         1.264706\n",
       "std      10.803452           3.249405         7.189654         0.441899\n",
       "min      30.000000          58.000000         0.000000         1.000000\n",
       "25%      44.000000          60.000000         0.000000         1.000000\n",
       "50%      52.000000          63.000000         1.000000         1.000000\n",
       "75%      60.750000          65.750000         4.000000         2.000000\n",
       "max      83.000000          69.000000        52.000000         2.000000"
      ]
     },
     "execution_count": 12,
     "metadata": {},
     "output_type": "execute_result"
    }
   ],
   "source": [
    "survival.describe()"
   ]
  },
  {
   "cell_type": "code",
   "execution_count": 13,
   "metadata": {},
   "outputs": [
    {
     "data": {
      "text/plain": [
       "False"
      ]
     },
     "execution_count": 13,
     "metadata": {},
     "output_type": "execute_result"
    }
   ],
   "source": [
    "#Check for missing values in the dataset\n",
    "survival.isnull().values.any()"
   ]
  },
  {
   "cell_type": "code",
   "execution_count": 14,
   "metadata": {},
   "outputs": [
    {
     "data": {
      "text/html": [
       "<div>\n",
       "<style scoped>\n",
       "    .dataframe tbody tr th:only-of-type {\n",
       "        vertical-align: middle;\n",
       "    }\n",
       "\n",
       "    .dataframe tbody tr th {\n",
       "        vertical-align: top;\n",
       "    }\n",
       "\n",
       "    .dataframe thead th {\n",
       "        text-align: right;\n",
       "    }\n",
       "</style>\n",
       "<table border=\"1\" class=\"dataframe\">\n",
       "  <thead>\n",
       "    <tr style=\"text-align: right;\">\n",
       "      <th></th>\n",
       "      <th>Patient_Age</th>\n",
       "      <th>Year_of_Operation</th>\n",
       "      <th>Number_of_Nodes</th>\n",
       "      <th>Survival_Status</th>\n",
       "    </tr>\n",
       "  </thead>\n",
       "  <tbody>\n",
       "    <tr>\n",
       "      <th>count</th>\n",
       "      <td>225.000000</td>\n",
       "      <td>225.000000</td>\n",
       "      <td>225.000000</td>\n",
       "      <td>225.0</td>\n",
       "    </tr>\n",
       "    <tr>\n",
       "      <th>mean</th>\n",
       "      <td>52.017778</td>\n",
       "      <td>62.862222</td>\n",
       "      <td>2.791111</td>\n",
       "      <td>1.0</td>\n",
       "    </tr>\n",
       "    <tr>\n",
       "      <th>std</th>\n",
       "      <td>11.012154</td>\n",
       "      <td>3.222915</td>\n",
       "      <td>5.870318</td>\n",
       "      <td>0.0</td>\n",
       "    </tr>\n",
       "    <tr>\n",
       "      <th>min</th>\n",
       "      <td>30.000000</td>\n",
       "      <td>58.000000</td>\n",
       "      <td>0.000000</td>\n",
       "      <td>1.0</td>\n",
       "    </tr>\n",
       "    <tr>\n",
       "      <th>25%</th>\n",
       "      <td>43.000000</td>\n",
       "      <td>60.000000</td>\n",
       "      <td>0.000000</td>\n",
       "      <td>1.0</td>\n",
       "    </tr>\n",
       "    <tr>\n",
       "      <th>50%</th>\n",
       "      <td>52.000000</td>\n",
       "      <td>63.000000</td>\n",
       "      <td>0.000000</td>\n",
       "      <td>1.0</td>\n",
       "    </tr>\n",
       "    <tr>\n",
       "      <th>75%</th>\n",
       "      <td>60.000000</td>\n",
       "      <td>66.000000</td>\n",
       "      <td>3.000000</td>\n",
       "      <td>1.0</td>\n",
       "    </tr>\n",
       "    <tr>\n",
       "      <th>max</th>\n",
       "      <td>77.000000</td>\n",
       "      <td>69.000000</td>\n",
       "      <td>46.000000</td>\n",
       "      <td>1.0</td>\n",
       "    </tr>\n",
       "  </tbody>\n",
       "</table>\n",
       "</div>"
      ],
      "text/plain": [
       "       Patient_Age  Year_of_Operation  Number_of_Nodes  Survival_Status\n",
       "count   225.000000         225.000000       225.000000            225.0\n",
       "mean     52.017778          62.862222         2.791111              1.0\n",
       "std      11.012154           3.222915         5.870318              0.0\n",
       "min      30.000000          58.000000         0.000000              1.0\n",
       "25%      43.000000          60.000000         0.000000              1.0\n",
       "50%      52.000000          63.000000         0.000000              1.0\n",
       "75%      60.000000          66.000000         3.000000              1.0\n",
       "max      77.000000          69.000000        46.000000              1.0"
      ]
     },
     "execution_count": 14,
     "metadata": {},
     "output_type": "execute_result"
    }
   ],
   "source": [
    "#Summary statistics for patients that have survived 5 years or longer\n",
    "survive = survival[survival['Survival_Status'] == 1]\n",
    "survive.describe()"
   ]
  },
  {
   "cell_type": "code",
   "execution_count": 15,
   "metadata": {},
   "outputs": [
    {
     "data": {
      "text/html": [
       "<div>\n",
       "<style scoped>\n",
       "    .dataframe tbody tr th:only-of-type {\n",
       "        vertical-align: middle;\n",
       "    }\n",
       "\n",
       "    .dataframe tbody tr th {\n",
       "        vertical-align: top;\n",
       "    }\n",
       "\n",
       "    .dataframe thead th {\n",
       "        text-align: right;\n",
       "    }\n",
       "</style>\n",
       "<table border=\"1\" class=\"dataframe\">\n",
       "  <thead>\n",
       "    <tr style=\"text-align: right;\">\n",
       "      <th></th>\n",
       "      <th>Patient_Age</th>\n",
       "      <th>Year_of_Operation</th>\n",
       "      <th>Number_of_Nodes</th>\n",
       "      <th>Survival_Status</th>\n",
       "    </tr>\n",
       "  </thead>\n",
       "  <tbody>\n",
       "    <tr>\n",
       "      <th>count</th>\n",
       "      <td>81.000000</td>\n",
       "      <td>81.000000</td>\n",
       "      <td>81.000000</td>\n",
       "      <td>81.0</td>\n",
       "    </tr>\n",
       "    <tr>\n",
       "      <th>mean</th>\n",
       "      <td>53.679012</td>\n",
       "      <td>62.827160</td>\n",
       "      <td>7.456790</td>\n",
       "      <td>2.0</td>\n",
       "    </tr>\n",
       "    <tr>\n",
       "      <th>std</th>\n",
       "      <td>10.167137</td>\n",
       "      <td>3.342118</td>\n",
       "      <td>9.185654</td>\n",
       "      <td>0.0</td>\n",
       "    </tr>\n",
       "    <tr>\n",
       "      <th>min</th>\n",
       "      <td>34.000000</td>\n",
       "      <td>58.000000</td>\n",
       "      <td>0.000000</td>\n",
       "      <td>2.0</td>\n",
       "    </tr>\n",
       "    <tr>\n",
       "      <th>25%</th>\n",
       "      <td>46.000000</td>\n",
       "      <td>59.000000</td>\n",
       "      <td>1.000000</td>\n",
       "      <td>2.0</td>\n",
       "    </tr>\n",
       "    <tr>\n",
       "      <th>50%</th>\n",
       "      <td>53.000000</td>\n",
       "      <td>63.000000</td>\n",
       "      <td>4.000000</td>\n",
       "      <td>2.0</td>\n",
       "    </tr>\n",
       "    <tr>\n",
       "      <th>75%</th>\n",
       "      <td>61.000000</td>\n",
       "      <td>65.000000</td>\n",
       "      <td>11.000000</td>\n",
       "      <td>2.0</td>\n",
       "    </tr>\n",
       "    <tr>\n",
       "      <th>max</th>\n",
       "      <td>83.000000</td>\n",
       "      <td>69.000000</td>\n",
       "      <td>52.000000</td>\n",
       "      <td>2.0</td>\n",
       "    </tr>\n",
       "  </tbody>\n",
       "</table>\n",
       "</div>"
      ],
      "text/plain": [
       "       Patient_Age  Year_of_Operation  Number_of_Nodes  Survival_Status\n",
       "count    81.000000          81.000000        81.000000             81.0\n",
       "mean     53.679012          62.827160         7.456790              2.0\n",
       "std      10.167137           3.342118         9.185654              0.0\n",
       "min      34.000000          58.000000         0.000000              2.0\n",
       "25%      46.000000          59.000000         1.000000              2.0\n",
       "50%      53.000000          63.000000         4.000000              2.0\n",
       "75%      61.000000          65.000000        11.000000              2.0\n",
       "max      83.000000          69.000000        52.000000              2.0"
      ]
     },
     "execution_count": 15,
     "metadata": {},
     "output_type": "execute_result"
    }
   ],
   "source": [
    "#Summary statistics for patients that have died within 5 year\n",
    "nonSurvive = survival[survival['Survival_Status'] == 2]\n",
    "nonSurvive.describe()"
   ]
  },
  {
   "cell_type": "code",
   "execution_count": 16,
   "metadata": {},
   "outputs": [],
   "source": [
    "#Load python packages\n",
    "import matplotlib.pyplot as plt\n",
    "from sklearn import linear_model\n",
    "import scipy"
   ]
  },
  {
   "cell_type": "code",
   "execution_count": 17,
   "metadata": {},
   "outputs": [
    {
     "data": {
      "text/plain": [
       "<function matplotlib.pyplot.show>"
      ]
     },
     "execution_count": 17,
     "metadata": {},
     "output_type": "execute_result"
    },
    {
     "name": "stderr",
     "output_type": "stream",
     "text": [
      "C:\\Users\\Charles\\Anaconda2\\lib\\site-packages\\matplotlib\\figure.py:2022: UserWarning: This figure includes Axes that are not compatible with tight_layout, so results might be incorrect.\n",
      "  warnings.warn(\"This figure includes Axes that are not compatible \"\n"
     ]
    },
    {
     "data": {
      "image/png": "[encoded data removed]",
      "text/plain": [
       "<matplotlib.figure.Figure at 0xee335f8>"
      ]
     },
     "metadata": {},
     "output_type": "display_data"
    }
   ],
   "source": [
    "#Histogram examining the distribution of Patient Ages, Year of Operation and Number of Positive Axillary Nodes Detected\n",
    "\n",
    "fig, (ax0, ax1, ax2) = plt.subplots(nrows=1, ncols=3, figsize=(12, 3.5), tight_layout=True)\n",
    "ax0.hist(x=survival['Patient_Age'], bins=20, histtype='bar', edgecolor='black', color='royalblue')\n",
    "ax0.set_title('Patient Age', fontsize=16, fontweight = 'bold')\n",
    "ax0.set_xlabel('Age (years)', fontsize = 12)\n",
    "\n",
    "ax1.hist(x=survival['Year_of_Operation'], bins=10, histtype='bar', edgecolor='black', color='royalblue')\n",
    "ax1.set_title('Year of Operation', fontsize=16, fontweight = 'bold')\n",
    "ax1.set_xlabel('Year', fontsize = 12)\n",
    "\n",
    "ax2.hist(x=survival['Number_of_Nodes'], bins=20, histtype='bar', edgecolor='black', color='royalblue')\n",
    "ax2.set_title('Number of Nodes', fontsize=16, fontweight = 'bold')\n",
    "ax2.set_xlabel('Number of Nodes', fontsize = 12)\n",
    "\n",
    "plt.show"
   ]
  },
  {
   "cell_type": "code",
   "execution_count": 18,
   "metadata": {},
   "outputs": [
    {
     "data": {
      "image/png": "[encoded data removed]",
      "text/plain": [
       "<matplotlib.figure.Figure at 0x104e0908>"
      ]
     },
     "metadata": {},
     "output_type": "display_data"
    }
   ],
   "source": [
    "#Box plots examining the distribution of Patient Ages, Year of Operation and Number of Positive Axillary Nodes Detected\n",
    "\n",
    "fig, axes = plt.subplots(1, 3, figsize=(15, 1))\n",
    "for idx, feature in enumerate(list(survival.columns)[:-1]):\n",
    "    sns.boxplot( x=feature, data=survival, ax=axes[idx], color='orange')\n",
    "plt.show()    "
   ]
  },
  {
   "cell_type": "code",
   "execution_count": 19,
   "metadata": {},
   "outputs": [
    {
     "data": {
      "image/png": "[encoded data removed]",
      "text/plain": [
       "<matplotlib.figure.Figure at 0x1065b7b8>"
      ]
     },
     "metadata": {},
     "output_type": "display_data"
    },
    {
     "data": {
      "image/png": "[encoded data removed]",
      "text/plain": [
       "<matplotlib.figure.Figure at 0x10e13208>"
      ]
     },
     "metadata": {},
     "output_type": "display_data"
    },
    {
     "data": {
      "image/png": "[encoded data removed]",
      "text/plain": [
       "<matplotlib.figure.Figure at 0x10b152b0>"
      ]
     },
     "metadata": {},
     "output_type": "display_data"
    },
    {
     "data": {
      "image/png": "[encoded data removed]",
      "text/plain": [
       "<matplotlib.figure.Figure at 0x11188c50>"
      ]
     },
     "metadata": {},
     "output_type": "display_data"
    }
   ],
   "source": [
    "#Distribution and Probability Density Function plots of untransformed versus cube root transformed \n",
    "#Number of Nodes grouped by survival\n",
    "    \n",
    "fig, axes = plt.subplots(1, 3, figsize=(15, 5))\n",
    "sns.FacetGrid(survival, hue = \"Survival_Status\").add_legend().map(sns.distplot, \"Patient_Age\", ax = axes[0])\n",
    "sns.FacetGrid(survival, hue = \"Survival_Status\").add_legend().map(sns.distplot, \"Year_of_Operation\", ax = axes[1])\n",
    "sns.FacetGrid(survival, hue = \"Survival_Status\").add_legend().map(sns.distplot, \"Number_of_Nodes\", ax = axes[2])\n",
    "plt.show()\n"
   ]
  },
  {
   "cell_type": "markdown",
   "metadata": {},
   "source": [
    "survival['Year_of_Operation'].plot.hist(histtype='bar', bins=10, edgecolor='black', color='royalblue', normed = True)\n",
    "plt.title('Year of Operation', fontsize=20, fontweight = 'bold')\n",
    "plt.xlabel('Year', fontsize=16)\n",
    "plt.ylabel('Frequency', fontsize = 16)\n",
    "plt.show()"
   ]
  },
  {
   "cell_type": "code",
   "execution_count": 20,
   "metadata": {},
   "outputs": [
    {
     "name": "stdout",
     "output_type": "stream",
     "text": [
      "     Patient_Age  Year_of_Operation  Number_of_Nodes  Survival_Status\n",
      "0             30                 64         1.000000                1\n",
      "1             30                 62         1.442250                1\n",
      "2             30                 65         0.000000                1\n",
      "3             31                 59         1.259921                1\n",
      "4             31                 65         1.587401                1\n",
      "5             33                 58         2.154435                1\n",
      "6             33                 60         0.000000                1\n",
      "7             34                 59         0.000000                2\n",
      "8             34                 66         2.080084                2\n",
      "9             34                 58         3.107233                1\n",
      "10            34                 60         1.000000                1\n",
      "11            34                 61         2.154435                1\n",
      "12            34                 67         1.912931                1\n",
      "13            34                 60         0.000000                1\n",
      "14            35                 64         2.351335                1\n",
      "15            35                 63         0.000000                1\n",
      "16            36                 60         1.000000                1\n",
      "17            36                 69         0.000000                1\n",
      "18            37                 60         0.000000                1\n",
      "19            37                 63         0.000000                1\n",
      "20            37                 58         0.000000                1\n",
      "21            37                 59         1.817121                1\n",
      "22            37                 60         2.466212                1\n",
      "23            37                 63         0.000000                1\n",
      "24            38                 69         2.758924                2\n",
      "25            38                 59         1.259921                1\n",
      "26            38                 60         0.000000                1\n",
      "27            38                 60         0.000000                1\n",
      "28            38                 62         1.442250                1\n",
      "29            38                 64         1.000000                1\n",
      "..           ...                ...              ...              ...\n",
      "276           67                 66         0.000000                1\n",
      "277           67                 61         0.000000                1\n",
      "278           67                 65         0.000000                1\n",
      "279           68                 67         0.000000                1\n",
      "280           68                 68         0.000000                1\n",
      "281           69                 67         2.000000                2\n",
      "282           69                 60         0.000000                1\n",
      "283           69                 65         0.000000                1\n",
      "284           69                 66         0.000000                1\n",
      "285           70                 58         0.000000                2\n",
      "286           70                 58         1.587401                2\n",
      "287           70                 66         2.410142                1\n",
      "288           70                 67         0.000000                1\n",
      "289           70                 68         0.000000                1\n",
      "290           70                 59         2.000000                1\n",
      "291           70                 63         0.000000                1\n",
      "292           71                 68         1.259921                1\n",
      "293           72                 63         0.000000                2\n",
      "294           72                 58         0.000000                1\n",
      "295           72                 64         0.000000                1\n",
      "296           72                 67         1.442250                1\n",
      "297           73                 62         0.000000                1\n",
      "298           73                 68         0.000000                1\n",
      "299           74                 65         1.442250                2\n",
      "300           74                 63         0.000000                1\n",
      "301           75                 62         1.000000                1\n",
      "302           76                 67         0.000000                1\n",
      "303           77                 65         1.442250                1\n",
      "304           78                 65         1.000000                2\n",
      "305           83                 58         1.259921                2\n",
      "\n",
      "[306 rows x 4 columns]\n"
     ]
    }
   ],
   "source": [
    "survival2 = survival.copy()\n",
    "\n",
    "f = lambda x: np.sign(x) * np.power(abs(x), 1./3)\n",
    "survival2[['Number_of_Nodes']] = f(survival2[['Number_of_Nodes']])\n",
    "print survival2"
   ]
  },
  {
   "cell_type": "code",
   "execution_count": 21,
   "metadata": {},
   "outputs": [
    {
     "data": {
      "text/plain": [
       "<function matplotlib.pyplot.show>"
      ]
     },
     "execution_count": 21,
     "metadata": {},
     "output_type": "execute_result"
    },
    {
     "data": {
      "image/png": "[encoded data removed]",
      "text/plain": [
       "<matplotlib.figure.Figure at 0x11544588>"
      ]
     },
     "metadata": {},
     "output_type": "display_data"
    }
   ],
   "source": [
    "#Compare histograms of original and cube root transformed Number of Nodes\n",
    "fig, (ax0, ax1) = plt.subplots(nrows=1, ncols=2, figsize=(12, 3.5), tight_layout=True)\n",
    "ax0.hist(x=survival['Number_of_Nodes'], bins=30, histtype='bar', edgecolor='black', color='royalblue')\n",
    "ax0.set_title('Number of Nodes', fontsize=16, fontweight = 'bold')\n",
    "ax0.set_xlabel('Number of Nodes', fontsize = 12)\n",
    "\n",
    "ax1.hist(x=survival2['Number_of_Nodes'], bins=30, histtype='bar', edgecolor='black', color='royalblue')\n",
    "ax1.set_title('Number of Nodes (Cubed root)', fontsize=16, fontweight = 'bold')\n",
    "ax1.set_xlabel('Number of Nodes', fontsize = 12)\n",
    "\n",
    "plt.show"
   ]
  },
  {
   "cell_type": "code",
   "execution_count": 22,
   "metadata": {},
   "outputs": [
    {
     "data": {
      "image/png": "[encoded data removed]",
      "text/plain": [
       "<matplotlib.figure.Figure at 0x10f99208>"
      ]
     },
     "metadata": {},
     "output_type": "display_data"
    }
   ],
   "source": [
    "#Box plot examining the distribution of the cubed root of the Number of Positive Axillary Nodes Detected\n",
    "\n",
    "fig, axes = plt.subplots(1, 2, figsize=(15, 1))\n",
    "sns.boxplot(x='Number_of_Nodes', data=survival, ax = axes[0], color = 'orange') \n",
    "sns.boxplot(x='Number_of_Nodes', data=survival2, ax = axes[1], color = 'orange') \n",
    "plt.show()  "
   ]
  },
  {
   "cell_type": "code",
   "execution_count": 23,
   "metadata": {},
   "outputs": [
    {
     "data": {
      "image/png": "[encoded data removed]",
      "text/plain": [
       "<matplotlib.figure.Figure at 0x11d0eb00>"
      ]
     },
     "metadata": {},
     "output_type": "display_data"
    },
    {
     "data": {
      "image/png": "[encoded data removed]",
      "text/plain": [
       "<matplotlib.figure.Figure at 0x11ffb2b0>"
      ]
     },
     "metadata": {},
     "output_type": "display_data"
    },
    {
     "data": {
      "image/png": "[encoded data removed]",
      "text/plain": [
       "<matplotlib.figure.Figure at 0x11a1d6a0>"
      ]
     },
     "metadata": {},
     "output_type": "display_data"
    }
   ],
   "source": [
    "#Distribution and Probability Density Function plots of untransformed versus cube root transformed \n",
    "#Number of Nodes grouped by survival\n",
    "\n",
    "fig, axes = plt.subplots(1, 2, figsize=(15, 5))\n",
    "sns.FacetGrid(survival, hue = \"Survival_Status\").map(sns.distplot, \"Number_of_Nodes\", ax = axes[0]).add_legend()\n",
    "sns.FacetGrid(survival2, hue = \"Survival_Status\").map(sns.distplot, \"Number_of_Nodes\", ax = axes[1]).add_legend()\n",
    "plt.show()"
   ]
  },
  {
   "cell_type": "code",
   "execution_count": 24,
   "metadata": {},
   "outputs": [
    {
     "data": {
      "text/html": [
       "<div>\n",
       "<style scoped>\n",
       "    .dataframe tbody tr th:only-of-type {\n",
       "        vertical-align: middle;\n",
       "    }\n",
       "\n",
       "    .dataframe tbody tr th {\n",
       "        vertical-align: top;\n",
       "    }\n",
       "\n",
       "    .dataframe thead th {\n",
       "        text-align: right;\n",
       "    }\n",
       "</style>\n",
       "<table border=\"1\" class=\"dataframe\">\n",
       "  <thead>\n",
       "    <tr style=\"text-align: right;\">\n",
       "      <th></th>\n",
       "      <th>Patient_Age</th>\n",
       "      <th>Year_of_Operation</th>\n",
       "      <th>Number_of_Nodes</th>\n",
       "      <th>Survival_Status</th>\n",
       "    </tr>\n",
       "  </thead>\n",
       "  <tbody>\n",
       "    <tr>\n",
       "      <th>Patient_Age</th>\n",
       "      <td>116.714583</td>\n",
       "      <td>3.142912</td>\n",
       "      <td>-4.907082</td>\n",
       "      <td>0.324397</td>\n",
       "    </tr>\n",
       "    <tr>\n",
       "      <th>Year_of_Operation</th>\n",
       "      <td>3.142912</td>\n",
       "      <td>10.558631</td>\n",
       "      <td>-0.087946</td>\n",
       "      <td>-0.006847</td>\n",
       "    </tr>\n",
       "    <tr>\n",
       "      <th>Number_of_Nodes</th>\n",
       "      <td>-4.907082</td>\n",
       "      <td>-0.087946</td>\n",
       "      <td>51.691118</td>\n",
       "      <td>0.911090</td>\n",
       "    </tr>\n",
       "    <tr>\n",
       "      <th>Survival_Status</th>\n",
       "      <td>0.324397</td>\n",
       "      <td>-0.006847</td>\n",
       "      <td>0.911090</td>\n",
       "      <td>0.195275</td>\n",
       "    </tr>\n",
       "  </tbody>\n",
       "</table>\n",
       "</div>"
      ],
      "text/plain": [
       "                   Patient_Age  Year_of_Operation  Number_of_Nodes  \\\n",
       "Patient_Age         116.714583           3.142912        -4.907082   \n",
       "Year_of_Operation     3.142912          10.558631        -0.087946   \n",
       "Number_of_Nodes      -4.907082          -0.087946        51.691118   \n",
       "Survival_Status       0.324397          -0.006847         0.911090   \n",
       "\n",
       "                   Survival_Status  \n",
       "Patient_Age               0.324397  \n",
       "Year_of_Operation        -0.006847  \n",
       "Number_of_Nodes           0.911090  \n",
       "Survival_Status           0.195275  "
      ]
     },
     "execution_count": 24,
     "metadata": {},
     "output_type": "execute_result"
    }
   ],
   "source": [
    "survival.cov()"
   ]
  },
  {
   "cell_type": "code",
   "execution_count": 25,
   "metadata": {},
   "outputs": [
    {
     "data": {
      "text/html": [
       "<div>\n",
       "<style scoped>\n",
       "    .dataframe tbody tr th:only-of-type {\n",
       "        vertical-align: middle;\n",
       "    }\n",
       "\n",
       "    .dataframe tbody tr th {\n",
       "        vertical-align: top;\n",
       "    }\n",
       "\n",
       "    .dataframe thead th {\n",
       "        text-align: right;\n",
       "    }\n",
       "</style>\n",
       "<table border=\"1\" class=\"dataframe\">\n",
       "  <thead>\n",
       "    <tr style=\"text-align: right;\">\n",
       "      <th></th>\n",
       "      <th>Patient_Age</th>\n",
       "      <th>Year_of_Operation</th>\n",
       "      <th>Number_of_Nodes</th>\n",
       "      <th>Survival_Status</th>\n",
       "    </tr>\n",
       "  </thead>\n",
       "  <tbody>\n",
       "    <tr>\n",
       "      <th>Patient_Age</th>\n",
       "      <td>1.000000</td>\n",
       "      <td>0.089529</td>\n",
       "      <td>-0.063176</td>\n",
       "      <td>0.067950</td>\n",
       "    </tr>\n",
       "    <tr>\n",
       "      <th>Year_of_Operation</th>\n",
       "      <td>0.089529</td>\n",
       "      <td>1.000000</td>\n",
       "      <td>-0.003764</td>\n",
       "      <td>-0.004768</td>\n",
       "    </tr>\n",
       "    <tr>\n",
       "      <th>Number_of_Nodes</th>\n",
       "      <td>-0.063176</td>\n",
       "      <td>-0.003764</td>\n",
       "      <td>1.000000</td>\n",
       "      <td>0.286768</td>\n",
       "    </tr>\n",
       "    <tr>\n",
       "      <th>Survival_Status</th>\n",
       "      <td>0.067950</td>\n",
       "      <td>-0.004768</td>\n",
       "      <td>0.286768</td>\n",
       "      <td>1.000000</td>\n",
       "    </tr>\n",
       "  </tbody>\n",
       "</table>\n",
       "</div>"
      ],
      "text/plain": [
       "                   Patient_Age  Year_of_Operation  Number_of_Nodes  \\\n",
       "Patient_Age           1.000000           0.089529        -0.063176   \n",
       "Year_of_Operation     0.089529           1.000000        -0.003764   \n",
       "Number_of_Nodes      -0.063176          -0.003764         1.000000   \n",
       "Survival_Status       0.067950          -0.004768         0.286768   \n",
       "\n",
       "                   Survival_Status  \n",
       "Patient_Age               0.067950  \n",
       "Year_of_Operation        -0.004768  \n",
       "Number_of_Nodes           0.286768  \n",
       "Survival_Status           1.000000  "
      ]
     },
     "execution_count": 25,
     "metadata": {},
     "output_type": "execute_result"
    }
   ],
   "source": [
    "survival.corr()"
   ]
  },
  {
   "cell_type": "code",
   "execution_count": 26,
   "metadata": {},
   "outputs": [
    {
     "data": {
      "image/png": "[encoded data removed]",
      "text/plain": [
       "<matplotlib.figure.Figure at 0x1197f828>"
      ]
     },
     "metadata": {},
     "output_type": "display_data"
    }
   ],
   "source": [
    "labels = 'Survived \\n5 years \\nor longer', 'Patient died \\nwithin 5 years'\n",
    "explode = (0, 0.05)\n",
    "ax1 = survival['Survival_Status'].value_counts().plot(kind='pie', labeldistance = 1.2, autopct='%1.1f%%', explode = explode, startangle=90, labels=labels, shadow=True, fontsize=12)\n",
    "ax1.axis('equal')\n",
    "ax1.set_title('Survival Status', fontsize=20, fontweight = 'bold')\n",
    "plt.show()"
   ]
  },
  {
   "cell_type": "code",
   "execution_count": 27,
   "metadata": {},
   "outputs": [
    {
     "data": {
      "image/png": "[encoded data removed]",
      "text/plain": [
       "<matplotlib.figure.Figure at 0x113d5e48>"
      ]
     },
     "metadata": {},
     "output_type": "display_data"
    }
   ],
   "source": [
    "fig, axes = plt.subplots(1, 3, figsize=(15, 5))\n",
    "for idx, feature in enumerate(list(survival.columns)[:-1]):\n",
    "    sns.boxplot( x='Survival_Status', y=feature, data=survival, ax=axes[idx])\n",
    "plt.show()"
   ]
  },
  {
   "cell_type": "code",
   "execution_count": 28,
   "metadata": {},
   "outputs": [
    {
     "data": {
      "text/plain": [
       "<seaborn.axisgrid.FacetGrid at 0x11d0e4e0>"
      ]
     },
     "execution_count": 28,
     "metadata": {},
     "output_type": "execute_result"
    },
    {
     "data": {
      "image/png": "[encoded data removed]",
      "text/plain": [
       "<matplotlib.figure.Figure at 0x11995710>"
      ]
     },
     "metadata": {},
     "output_type": "display_data"
    }
   ],
   "source": [
    "sns.lmplot(fit_reg = False, data = survival, y = 'Number_of_Nodes', x = 'Patient_Age')"
   ]
  },
  {
   "cell_type": "code",
   "execution_count": 29,
   "metadata": {},
   "outputs": [
    {
     "data": {
      "text/plain": [
       "<function matplotlib.pyplot.show>"
      ]
     },
     "execution_count": 29,
     "metadata": {},
     "output_type": "execute_result"
    },
    {
     "data": {
      "image/png": "[encoded data removed]",
      "text/plain": [
       "<matplotlib.figure.Figure at 0x10afc320>"
      ]
     },
     "metadata": {},
     "output_type": "display_data"
    }
   ],
   "source": [
    "v = survival['Survival_Status'].unique()\n",
    "m_1 = survival['Survival_Status'] == v[0]\n",
    "m_2 = survival['Survival_Status'] == v[1]\n",
    "survival.loc[m_1, 'Survival_Status'] = 0\n",
    "survival.loc[m_2, 'Survival_Status'] = 1\n",
    "survival['Survival_Status'].value_counts()\n",
    "\n",
    "colors_palette = {0: 'orange', 1: 'blue'}\n",
    "\n",
    "colors = [colors_palette[c] for c in survival['Survival_Status']]\n",
    "\n",
    "from pandas.plotting import scatter_matrix\n",
    "scatter_matrix(survival[['Patient_Age', 'Year_of_Operation', 'Number_of_Nodes']], s = 100, alpha = 1.0, figsize = (16, 16), c = colors, diagonal = 'hist')\n",
    "plt.show"
   ]
  },
  {
   "cell_type": "code",
   "execution_count": 30,
   "metadata": {},
   "outputs": [
    {
     "name": "stdout",
     "output_type": "stream",
     "text": [
      "('Mean age of patients surviving longer than 5 years:', 54.0)\n",
      "('Mean age of patients surviving less than 5 years:', nan)\n"
     ]
    }
   ],
   "source": [
    "print(\"Mean age of patients surviving longer than 5 years:\", round(np.mean(survival[survival['Survival_Status'] == 1]['Patient_Age'])))\n",
    "print(\"Mean age of patients surviving less than 5 years:\", round(np.mean(survival[survival['Survival_Status'] == 2]['Patient_Age'])))"
   ]
  },
  {
   "cell_type": "code",
   "execution_count": 31,
   "metadata": {},
   "outputs": [
    {
     "data": {
      "text/html": [
       "<div>\n",
       "<style scoped>\n",
       "    .dataframe tbody tr th:only-of-type {\n",
       "        vertical-align: middle;\n",
       "    }\n",
       "\n",
       "    .dataframe tbody tr th {\n",
       "        vertical-align: top;\n",
       "    }\n",
       "\n",
       "    .dataframe thead th {\n",
       "        text-align: right;\n",
       "    }\n",
       "</style>\n",
       "<table border=\"1\" class=\"dataframe\">\n",
       "  <thead>\n",
       "    <tr style=\"text-align: right;\">\n",
       "      <th></th>\n",
       "      <th>Patient_Age</th>\n",
       "      <th>Year_of_Operation</th>\n",
       "      <th>Number_of_Nodes</th>\n",
       "      <th>Survival_Status</th>\n",
       "    </tr>\n",
       "  </thead>\n",
       "  <tbody>\n",
       "    <tr>\n",
       "      <th>count</th>\n",
       "      <td>81.000000</td>\n",
       "      <td>81.000000</td>\n",
       "      <td>81.000000</td>\n",
       "      <td>81.0</td>\n",
       "    </tr>\n",
       "    <tr>\n",
       "      <th>mean</th>\n",
       "      <td>53.679012</td>\n",
       "      <td>62.827160</td>\n",
       "      <td>7.456790</td>\n",
       "      <td>1.0</td>\n",
       "    </tr>\n",
       "    <tr>\n",
       "      <th>std</th>\n",
       "      <td>10.167137</td>\n",
       "      <td>3.342118</td>\n",
       "      <td>9.185654</td>\n",
       "      <td>0.0</td>\n",
       "    </tr>\n",
       "    <tr>\n",
       "      <th>min</th>\n",
       "      <td>34.000000</td>\n",
       "      <td>58.000000</td>\n",
       "      <td>0.000000</td>\n",
       "      <td>1.0</td>\n",
       "    </tr>\n",
       "    <tr>\n",
       "      <th>25%</th>\n",
       "      <td>46.000000</td>\n",
       "      <td>59.000000</td>\n",
       "      <td>1.000000</td>\n",
       "      <td>1.0</td>\n",
       "    </tr>\n",
       "    <tr>\n",
       "      <th>50%</th>\n",
       "      <td>53.000000</td>\n",
       "      <td>63.000000</td>\n",
       "      <td>4.000000</td>\n",
       "      <td>1.0</td>\n",
       "    </tr>\n",
       "    <tr>\n",
       "      <th>75%</th>\n",
       "      <td>61.000000</td>\n",
       "      <td>65.000000</td>\n",
       "      <td>11.000000</td>\n",
       "      <td>1.0</td>\n",
       "    </tr>\n",
       "    <tr>\n",
       "      <th>max</th>\n",
       "      <td>83.000000</td>\n",
       "      <td>69.000000</td>\n",
       "      <td>52.000000</td>\n",
       "      <td>1.0</td>\n",
       "    </tr>\n",
       "  </tbody>\n",
       "</table>\n",
       "</div>"
      ],
      "text/plain": [
       "       Patient_Age  Year_of_Operation  Number_of_Nodes  Survival_Status\n",
       "count    81.000000          81.000000        81.000000             81.0\n",
       "mean     53.679012          62.827160         7.456790              1.0\n",
       "std      10.167137           3.342118         9.185654              0.0\n",
       "min      34.000000          58.000000         0.000000              1.0\n",
       "25%      46.000000          59.000000         1.000000              1.0\n",
       "50%      53.000000          63.000000         4.000000              1.0\n",
       "75%      61.000000          65.000000        11.000000              1.0\n",
       "max      83.000000          69.000000        52.000000              1.0"
      ]
     },
     "execution_count": 31,
     "metadata": {},
     "output_type": "execute_result"
    }
   ],
   "source": [
    "survive = survival[survival['Survival_Status'] == 1]\n",
    "survive.describe()"
   ]
  },
  {
   "cell_type": "code",
   "execution_count": 32,
   "metadata": {},
   "outputs": [
    {
     "data": {
      "text/html": [
       "<div>\n",
       "<style scoped>\n",
       "    .dataframe tbody tr th:only-of-type {\n",
       "        vertical-align: middle;\n",
       "    }\n",
       "\n",
       "    .dataframe tbody tr th {\n",
       "        vertical-align: top;\n",
       "    }\n",
       "\n",
       "    .dataframe thead th {\n",
       "        text-align: right;\n",
       "    }\n",
       "</style>\n",
       "<table border=\"1\" class=\"dataframe\">\n",
       "  <thead>\n",
       "    <tr style=\"text-align: right;\">\n",
       "      <th></th>\n",
       "      <th>Patient_Age</th>\n",
       "      <th>Year_of_Operation</th>\n",
       "      <th>Number_of_Nodes</th>\n",
       "      <th>Survival_Status</th>\n",
       "    </tr>\n",
       "  </thead>\n",
       "  <tbody>\n",
       "    <tr>\n",
       "      <th>count</th>\n",
       "      <td>0.0</td>\n",
       "      <td>0.0</td>\n",
       "      <td>0.0</td>\n",
       "      <td>0.0</td>\n",
       "    </tr>\n",
       "    <tr>\n",
       "      <th>mean</th>\n",
       "      <td>NaN</td>\n",
       "      <td>NaN</td>\n",
       "      <td>NaN</td>\n",
       "      <td>NaN</td>\n",
       "    </tr>\n",
       "    <tr>\n",
       "      <th>std</th>\n",
       "      <td>NaN</td>\n",
       "      <td>NaN</td>\n",
       "      <td>NaN</td>\n",
       "      <td>NaN</td>\n",
       "    </tr>\n",
       "    <tr>\n",
       "      <th>min</th>\n",
       "      <td>NaN</td>\n",
       "      <td>NaN</td>\n",
       "      <td>NaN</td>\n",
       "      <td>NaN</td>\n",
       "    </tr>\n",
       "    <tr>\n",
       "      <th>25%</th>\n",
       "      <td>NaN</td>\n",
       "      <td>NaN</td>\n",
       "      <td>NaN</td>\n",
       "      <td>NaN</td>\n",
       "    </tr>\n",
       "    <tr>\n",
       "      <th>50%</th>\n",
       "      <td>NaN</td>\n",
       "      <td>NaN</td>\n",
       "      <td>NaN</td>\n",
       "      <td>NaN</td>\n",
       "    </tr>\n",
       "    <tr>\n",
       "      <th>75%</th>\n",
       "      <td>NaN</td>\n",
       "      <td>NaN</td>\n",
       "      <td>NaN</td>\n",
       "      <td>NaN</td>\n",
       "    </tr>\n",
       "    <tr>\n",
       "      <th>max</th>\n",
       "      <td>NaN</td>\n",
       "      <td>NaN</td>\n",
       "      <td>NaN</td>\n",
       "      <td>NaN</td>\n",
       "    </tr>\n",
       "  </tbody>\n",
       "</table>\n",
       "</div>"
      ],
      "text/plain": [
       "       Patient_Age  Year_of_Operation  Number_of_Nodes  Survival_Status\n",
       "count          0.0                0.0              0.0              0.0\n",
       "mean           NaN                NaN              NaN              NaN\n",
       "std            NaN                NaN              NaN              NaN\n",
       "min            NaN                NaN              NaN              NaN\n",
       "25%            NaN                NaN              NaN              NaN\n",
       "50%            NaN                NaN              NaN              NaN\n",
       "75%            NaN                NaN              NaN              NaN\n",
       "max            NaN                NaN              NaN              NaN"
      ]
     },
     "execution_count": 32,
     "metadata": {},
     "output_type": "execute_result"
    }
   ],
   "source": [
    "nonSurvive = survival[survival['Survival_Status'] == 2]\n",
    "nonSurvive.describe()"
   ]
  },
  {
   "cell_type": "code",
   "execution_count": 33,
   "metadata": {},
   "outputs": [
    {
     "data": {
      "image/png": "[encoded data removed]",
      "text/plain": [
       "<matplotlib.figure.Figure at 0x10963c18>"
      ]
     },
     "metadata": {},
     "output_type": "display_data"
    }
   ],
   "source": [
    "sns.jointplot(x= 'Patient_Age',kind = 'kde', y='Year_of_Operation', data = survival)\n",
    "plt.show()"
   ]
  },
  {
   "cell_type": "code",
   "execution_count": 34,
   "metadata": {},
   "outputs": [
    {
     "data": {
      "image/png": "[encoded data removed]",
      "text/plain": [
       "<matplotlib.figure.Figure at 0x10fbaac8>"
      ]
     },
     "metadata": {},
     "output_type": "display_data"
    }
   ],
   "source": [
    "sns.jointplot(x= 'Patient_Age',kind = 'kde', y='Number_of_Nodes', data = survival)\n",
    "plt.show()"
   ]
  },
  {
   "cell_type": "code",
   "execution_count": 35,
   "metadata": {},
   "outputs": [
    {
     "data": {
      "image/png": "[encoded data removed]",
      "text/plain": [
       "<matplotlib.figure.Figure at 0x10d45e48>"
      ]
     },
     "metadata": {},
     "output_type": "display_data"
    }
   ],
   "source": [
    "sns.jointplot(x= 'Patient_Age',kind = 'kde', y='Survival_Status', data = survival)\n",
    "plt.show()"
   ]
  },
  {
   "cell_type": "code",
   "execution_count": 36,
   "metadata": {},
   "outputs": [],
   "source": [
    "#K Nearest Neighbors Classifier\n",
    "array = survival.as_matrix()\n",
    "survival_data = array[:,:3]\n",
    "survival_target = array[:,3]\n"
   ]
  },
  {
   "cell_type": "code",
   "execution_count": 37,
   "metadata": {},
   "outputs": [
    {
     "name": "stdout",
     "output_type": "stream",
     "text": [
      "[[30 64  1]\n",
      " [30 62  3]\n",
      " [30 65  0]\n",
      " [31 59  2]\n",
      " [31 65  4]\n",
      " [33 58 10]\n",
      " [33 60  0]\n",
      " [34 59  0]\n",
      " [34 66  9]\n",
      " [34 58 30]\n",
      " [34 60  1]\n",
      " [34 61 10]\n",
      " [34 67  7]\n",
      " [34 60  0]\n",
      " [35 64 13]\n",
      " [35 63  0]\n",
      " [36 60  1]\n",
      " [36 69  0]\n",
      " [37 60  0]\n",
      " [37 63  0]\n",
      " [37 58  0]\n",
      " [37 59  6]\n",
      " [37 60 15]\n",
      " [37 63  0]\n",
      " [38 69 21]\n",
      " [38 59  2]\n",
      " [38 60  0]\n",
      " [38 60  0]\n",
      " [38 62  3]\n",
      " [38 64  1]\n",
      " [38 66  0]\n",
      " [38 66 11]\n",
      " [38 60  1]\n",
      " [38 67  5]\n",
      " [39 66  0]\n",
      " [39 63  0]\n",
      " [39 67  0]\n",
      " [39 58  0]\n",
      " [39 59  2]\n",
      " [39 63  4]\n",
      " [40 58  2]\n",
      " [40 58  0]\n",
      " [40 65  0]\n",
      " [41 60 23]\n",
      " [41 64  0]\n",
      " [41 67  0]\n",
      " [41 58  0]\n",
      " [41 59  8]\n",
      " [41 59  0]\n",
      " [41 64  0]\n",
      " [41 69  8]\n",
      " [41 65  0]\n",
      " [41 65  0]\n",
      " [42 69  1]\n",
      " [42 59  0]\n",
      " [42 58  0]\n",
      " [42 60  1]\n",
      " [42 59  2]\n",
      " [42 61  4]\n",
      " [42 62 20]\n",
      " [42 65  0]\n",
      " [42 63  1]\n",
      " [43 58 52]\n",
      " [43 59  2]\n",
      " [43 64  0]\n",
      " [43 64  0]\n",
      " [43 63 14]\n",
      " [43 64  2]\n",
      " [43 64  3]\n",
      " [43 60  0]\n",
      " [43 63  2]\n",
      " [43 65  0]\n",
      " [43 66  4]\n",
      " [44 64  6]\n",
      " [44 58  9]\n",
      " [44 63 19]\n",
      " [44 61  0]\n",
      " [44 63  1]\n",
      " [44 61  0]\n",
      " [44 67 16]\n",
      " [45 65  6]\n",
      " [45 66  0]\n",
      " [45 67  1]\n",
      " [45 60  0]\n",
      " [45 67  0]\n",
      " [45 59 14]\n",
      " [45 64  0]\n",
      " [45 68  0]\n",
      " [45 67  1]\n",
      " [46 58  2]\n",
      " [46 69  3]\n",
      " [46 62  5]\n",
      " [46 65 20]\n",
      " [46 62  0]\n",
      " [46 58  3]\n",
      " [46 63  0]\n",
      " [47 63 23]\n",
      " [47 62  0]\n",
      " [47 65  0]\n",
      " [47 61  0]\n",
      " [47 63  6]\n",
      " [47 66  0]\n",
      " [47 67  0]\n",
      " [47 58  3]\n",
      " [47 60  4]\n",
      " [47 68  4]\n",
      " [47 66 12]\n",
      " [48 58 11]\n",
      " [48 58 11]\n",
      " [48 67  7]\n",
      " [48 61  8]\n",
      " [48 62  2]\n",
      " [48 64  0]\n",
      " [48 66  0]\n",
      " [49 63  0]\n",
      " [49 64 10]\n",
      " [49 61  1]\n",
      " [49 62  0]\n",
      " [49 66  0]\n",
      " [49 60  1]\n",
      " [49 62  1]\n",
      " [49 63  3]\n",
      " [49 61  0]\n",
      " [49 67  1]\n",
      " [50 63 13]\n",
      " [50 64  0]\n",
      " [50 59  0]\n",
      " [50 61  6]\n",
      " [50 61  0]\n",
      " [50 63  1]\n",
      " [50 58  1]\n",
      " [50 59  2]\n",
      " [50 61  0]\n",
      " [50 64  0]\n",
      " [50 65  4]\n",
      " [50 66  1]\n",
      " [51 59 13]\n",
      " [51 59  3]\n",
      " [51 64  7]\n",
      " [51 59  1]\n",
      " [51 65  0]\n",
      " [51 66  1]\n",
      " [52 69  3]\n",
      " [52 59  2]\n",
      " [52 62  3]\n",
      " [52 66  4]\n",
      " [52 61  0]\n",
      " [52 63  4]\n",
      " [52 69  0]\n",
      " [52 60  4]\n",
      " [52 60  5]\n",
      " [52 62  0]\n",
      " [52 62  1]\n",
      " [52 64  0]\n",
      " [52 65  0]\n",
      " [52 68  0]\n",
      " [53 58  4]\n",
      " [53 65  1]\n",
      " [53 59  3]\n",
      " [53 60  9]\n",
      " [53 63 24]\n",
      " [53 65 12]\n",
      " [53 58  1]\n",
      " [53 60  1]\n",
      " [53 60  2]\n",
      " [53 61  1]\n",
      " [53 63  0]\n",
      " [54 60 11]\n",
      " [54 65 23]\n",
      " [54 65  5]\n",
      " [54 68  7]\n",
      " [54 59  7]\n",
      " [54 60  3]\n",
      " [54 66  0]\n",
      " [54 67 46]\n",
      " [54 62  0]\n",
      " [54 69  7]\n",
      " [54 63 19]\n",
      " [54 58  1]\n",
      " [54 62  0]\n",
      " [55 63  6]\n",
      " [55 68 15]\n",
      " [55 58  1]\n",
      " [55 58  0]\n",
      " [55 58  1]\n",
      " [55 66 18]\n",
      " [55 66  0]\n",
      " [55 69  3]\n",
      " [55 69 22]\n",
      " [55 67  1]\n",
      " [56 65  9]\n",
      " [56 66  3]\n",
      " [56 60  0]\n",
      " [56 66  2]\n",
      " [56 66  1]\n",
      " [56 67  0]\n",
      " [56 60  0]\n",
      " [57 61  5]\n",
      " [57 62 14]\n",
      " [57 64  1]\n",
      " [57 64  9]\n",
      " [57 69  0]\n",
      " [57 61  0]\n",
      " [57 62  0]\n",
      " [57 63  0]\n",
      " [57 64  0]\n",
      " [57 64  0]\n",
      " [57 67  0]\n",
      " [58 59  0]\n",
      " [58 60  3]\n",
      " [58 61  1]\n",
      " [58 67  0]\n",
      " [58 58  0]\n",
      " [58 58  3]\n",
      " [58 61  2]\n",
      " [59 62 35]\n",
      " [59 60  0]\n",
      " [59 63  0]\n",
      " [59 64  1]\n",
      " [59 64  4]\n",
      " [59 64  0]\n",
      " [59 64  7]\n",
      " [59 67  3]\n",
      " [60 59 17]\n",
      " [60 65  0]\n",
      " [60 61  1]\n",
      " [60 67  2]\n",
      " [60 61 25]\n",
      " [60 64  0]\n",
      " [61 62  5]\n",
      " [61 65  0]\n",
      " [61 68  1]\n",
      " [61 59  0]\n",
      " [61 59  0]\n",
      " [61 64  0]\n",
      " [61 65  8]\n",
      " [61 68  0]\n",
      " [61 59  0]\n",
      " [62 59 13]\n",
      " [62 58  0]\n",
      " [62 65 19]\n",
      " [62 62  6]\n",
      " [62 66  0]\n",
      " [62 66  0]\n",
      " [62 58  0]\n",
      " [63 60  1]\n",
      " [63 61  0]\n",
      " [63 62  0]\n",
      " [63 63  0]\n",
      " [63 63  0]\n",
      " [63 66  0]\n",
      " [63 61  9]\n",
      " [63 61 28]\n",
      " [64 58  0]\n",
      " [64 65 22]\n",
      " [64 66  0]\n",
      " [64 61  0]\n",
      " [64 68  0]\n",
      " [65 58  0]\n",
      " [65 61  2]\n",
      " [65 62 22]\n",
      " [65 66 15]\n",
      " [65 58  0]\n",
      " [65 64  0]\n",
      " [65 67  0]\n",
      " [65 59  2]\n",
      " [65 64  0]\n",
      " [65 67  1]\n",
      " [66 58  0]\n",
      " [66 61 13]\n",
      " [66 58  0]\n",
      " [66 58  1]\n",
      " [66 68  0]\n",
      " [67 64  8]\n",
      " [67 63  1]\n",
      " [67 66  0]\n",
      " [67 66  0]\n",
      " [67 61  0]\n",
      " [67 65  0]\n",
      " [68 67  0]\n",
      " [68 68  0]\n",
      " [69 67  8]\n",
      " [69 60  0]\n",
      " [69 65  0]\n",
      " [69 66  0]\n",
      " [70 58  0]\n",
      " [70 58  4]\n",
      " [70 66 14]\n",
      " [70 67  0]\n",
      " [70 68  0]\n",
      " [70 59  8]\n",
      " [70 63  0]\n",
      " [71 68  2]\n",
      " [72 63  0]\n",
      " [72 58  0]\n",
      " [72 64  0]\n",
      " [72 67  3]\n",
      " [73 62  0]\n",
      " [73 68  0]\n",
      " [74 65  3]\n",
      " [74 63  0]\n",
      " [75 62  1]\n",
      " [76 67  0]\n",
      " [77 65  3]\n",
      " [78 65  1]\n",
      " [83 58  2]]\n"
     ]
    }
   ],
   "source": [
    "print survival_data"
   ]
  },
  {
   "cell_type": "code",
   "execution_count": 38,
   "metadata": {},
   "outputs": [
    {
     "name": "stdout",
     "output_type": "stream",
     "text": [
      "(306L,)\n"
     ]
    }
   ],
   "source": [
    "print survival_target.shape"
   ]
  },
  {
   "cell_type": "code",
   "execution_count": 39,
   "metadata": {},
   "outputs": [
    {
     "name": "stdout",
     "output_type": "stream",
     "text": [
      "['Patient_Age', 'Year_of_Operation', 'Number_of_Nodes']\n"
     ]
    }
   ],
   "source": [
    "survival_feature_names = ['Patient_Age', 'Year_of_Operation', 'Number_of_Nodes']\n",
    "print survival_feature_names"
   ]
  },
  {
   "cell_type": "code",
   "execution_count": 40,
   "metadata": {},
   "outputs": [
    {
     "name": "stdout",
     "output_type": "stream",
     "text": [
      "[0 0 0 0 0 0 0 1 1 0 0 0 0 0 0 0 0 0 0 0 0 0 0 0 1 0 0 0 0 0 0 0 0 0 1 0 0\n",
      " 0 0 0 0 0 0 1 1 1 0 0 0 0 0 0 0 1 1 0 0 0 0 0 0 0 1 1 1 1 0 0 0 0 0 0 0 1\n",
      " 1 1 0 0 0 0 1 1 1 0 0 0 0 0 0 1 1 1 1 0 0 0 1 1 1 0 0 0 0 0 0 0 0 1 1 1 0\n",
      " 0 0 0 1 1 0 0 0 0 0 0 0 0 1 1 0 0 0 0 0 0 0 0 0 0 1 1 0 0 0 0 1 1 1 1 0 0\n",
      " 0 0 0 0 0 0 0 0 1 1 1 1 1 1 0 0 0 0 0 1 1 1 1 0 0 0 0 0 0 0 0 0 1 1 0 0 0\n",
      " 0 0 0 0 0 1 1 0 0 0 0 0 1 1 1 0 0 0 0 0 0 0 0 0 0 0 0 0 0 0 1 0 0 0 0 0 0\n",
      " 0 1 1 0 0 0 0 1 1 1 0 0 0 0 0 0 1 1 1 0 0 0 0 1 0 0 0 0 0 0 0 0 0 0 0 0 1\n",
      " 1 1 1 0 0 0 0 0 0 1 1 0 0 0 1 1 0 0 0 0 0 0 1 0 0 0 1 1 0 0 0 0 0 0 1 0 0\n",
      " 0 0 0 1 0 0 0 0 1 1]\n"
     ]
    }
   ],
   "source": [
    "print survival_target"
   ]
  },
  {
   "cell_type": "code",
   "execution_count": 41,
   "metadata": {},
   "outputs": [
    {
     "name": "stdout",
     "output_type": "stream",
     "text": [
      "['Survival_Status']\n"
     ]
    }
   ],
   "source": [
    "survival_target_name = ['Survival_Status']\n",
    "print survival_target_name"
   ]
  },
  {
   "cell_type": "code",
   "execution_count": 42,
   "metadata": {},
   "outputs": [],
   "source": [
    "from sklearn.model_selection import train_test_split"
   ]
  },
  {
   "cell_type": "code",
   "execution_count": 43,
   "metadata": {},
   "outputs": [],
   "source": [
    "x_train, x_test, y_train, y_test = train_test_split(survival_data, survival_target, test_size = 0.5, random_state=4)"
   ]
  },
  {
   "cell_type": "code",
   "execution_count": 44,
   "metadata": {},
   "outputs": [
    {
     "name": "stdout",
     "output_type": "stream",
     "text": [
      "[[53 63  0]\n",
      " [33 58 10]\n",
      " [39 58  0]\n",
      " [38 59  2]\n",
      " [38 60  1]\n",
      " [49 64 10]\n",
      " [53 58  4]\n",
      " [59 60  0]\n",
      " [47 68  4]\n",
      " [54 60  3]\n",
      " [47 67  0]\n",
      " [65 59  2]\n",
      " [67 66  0]\n",
      " [55 66 18]\n",
      " [67 61  0]\n",
      " [55 58  1]\n",
      " [52 59  2]\n",
      " [40 58  0]\n",
      " [34 60  1]\n",
      " [34 59  0]\n",
      " [52 69  0]\n",
      " [44 58  9]\n",
      " [70 58  4]\n",
      " [64 58  0]\n",
      " [59 62 35]\n",
      " [43 64  0]\n",
      " [61 59  0]\n",
      " [39 63  0]\n",
      " [53 60  9]\n",
      " [69 60  0]\n",
      " [49 62  1]\n",
      " [54 68  7]\n",
      " [70 58  0]\n",
      " [57 63  0]\n",
      " [55 69 22]\n",
      " [72 63  0]\n",
      " [62 66  0]\n",
      " [63 60  1]\n",
      " [56 66  3]\n",
      " [50 66  1]\n",
      " [67 65  0]\n",
      " [49 60  1]\n",
      " [47 60  4]\n",
      " [51 64  7]\n",
      " [71 68  2]\n",
      " [51 66  1]\n",
      " [35 63  0]\n",
      " [50 61  6]\n",
      " [45 64  0]\n",
      " [54 59  7]\n",
      " [42 65  0]\n",
      " [47 62  0]\n",
      " [38 60  0]\n",
      " [36 69  0]\n",
      " [52 60  5]\n",
      " [63 66  0]\n",
      " [43 64  2]\n",
      " [60 61  1]\n",
      " [65 58  0]\n",
      " [61 62  5]\n",
      " [54 60 11]\n",
      " [31 65  4]\n",
      " [50 59  2]\n",
      " [61 68  0]\n",
      " [65 67  0]\n",
      " [65 62 22]\n",
      " [56 60  0]\n",
      " [42 69  1]\n",
      " [61 65  8]\n",
      " [34 58 30]\n",
      " [44 61  0]\n",
      " [66 58  1]\n",
      " [40 58  2]\n",
      " [38 66 11]\n",
      " [62 58  0]\n",
      " [44 63 19]\n",
      " [67 64  8]\n",
      " [50 61  0]\n",
      " [53 59  3]\n",
      " [47 63 23]\n",
      " [64 68  0]\n",
      " [42 59  0]\n",
      " [50 64  0]\n",
      " [65 67  1]\n",
      " [43 66  4]\n",
      " [53 61  1]\n",
      " [34 66  9]\n",
      " [41 65  0]\n",
      " [48 58 11]\n",
      " [42 62 20]\n",
      " [59 64  4]\n",
      " [39 67  0]\n",
      " [44 67 16]\n",
      " [65 64  0]\n",
      " [45 59 14]\n",
      " [66 58  0]\n",
      " [68 68  0]\n",
      " [55 68 15]\n",
      " [70 63  0]\n",
      " [58 61  1]\n",
      " [70 67  0]\n",
      " [57 64  1]\n",
      " [61 64  0]\n",
      " [61 59  0]\n",
      " [61 68  1]\n",
      " [57 62 14]\n",
      " [70 66 14]\n",
      " [65 66 15]\n",
      " [56 65  9]\n",
      " [37 60 15]\n",
      " [59 67  3]\n",
      " [49 63  0]\n",
      " [52 62  0]\n",
      " [54 69  7]\n",
      " [55 69  3]\n",
      " [44 64  6]\n",
      " [59 63  0]\n",
      " [62 65 19]\n",
      " [52 66  4]\n",
      " [41 69  8]\n",
      " [64 66  0]\n",
      " [46 63  0]\n",
      " [47 65  0]\n",
      " [57 67  0]\n",
      " [31 59  2]\n",
      " [72 64  0]\n",
      " [53 65 12]\n",
      " [62 66  0]\n",
      " [54 65 23]\n",
      " [41 64  0]\n",
      " [51 59 13]\n",
      " [38 66  0]\n",
      " [78 65  1]\n",
      " [56 66  1]\n",
      " [42 60  1]\n",
      " [57 69  0]\n",
      " [52 60  4]\n",
      " [37 59  6]\n",
      " [55 58  0]\n",
      " [30 64  1]\n",
      " [41 65  0]\n",
      " [50 59  0]\n",
      " [72 58  0]\n",
      " [41 64  0]\n",
      " [53 60  2]\n",
      " [46 58  3]\n",
      " [48 67  7]\n",
      " [63 61 28]\n",
      " [42 61  4]\n",
      " [45 68  0]\n",
      " [57 61  5]\n",
      " [54 67 46]\n",
      " [49 61  0]]\n"
     ]
    }
   ],
   "source": [
    "print x_train"
   ]
  },
  {
   "cell_type": "code",
   "execution_count": 45,
   "metadata": {},
   "outputs": [
    {
     "data": {
      "text/plain": [
       "(153L, 3L)"
      ]
     },
     "execution_count": 45,
     "metadata": {},
     "output_type": "execute_result"
    }
   ],
   "source": [
    "x_train.shape"
   ]
  },
  {
   "cell_type": "code",
   "execution_count": 46,
   "metadata": {},
   "outputs": [
    {
     "data": {
      "text/plain": [
       "array([0, 0, 0, 0, 0, 1, 1, 0, 0, 0, 0, 0, 0, 0, 0, 0, 1, 0, 0, 1, 0, 1, 1,\n",
       "       0, 1, 1, 0, 0, 1, 0, 0, 1, 1, 0, 0, 1, 0, 1, 1, 0, 0, 0, 0, 0, 0, 0,\n",
       "       0, 0, 0, 0, 0, 1, 0, 0, 0, 0, 0, 0, 1, 1, 1, 0, 0, 0, 0, 1, 0, 1, 0,\n",
       "       0, 0, 0, 0, 0, 1, 1, 1, 0, 1, 1, 0, 1, 1, 0, 0, 0, 1, 0, 1, 0, 0, 0,\n",
       "       0, 0, 0, 0, 0, 1, 0, 0, 0, 1, 0, 0, 1, 1, 0, 1, 1, 0, 0, 1, 0, 0, 0,\n",
       "       1, 0, 1, 1, 0, 0, 0, 1, 0, 0, 0, 1, 0, 1, 0, 1, 0, 1, 0, 0, 0, 0, 0,\n",
       "       0, 0, 0, 0, 0, 1, 0, 0, 1, 0, 0, 0, 1, 0, 0], dtype=int64)"
      ]
     },
     "execution_count": 46,
     "metadata": {},
     "output_type": "execute_result"
    }
   ],
   "source": [
    "y_train"
   ]
  },
  {
   "cell_type": "code",
   "execution_count": 47,
   "metadata": {},
   "outputs": [
    {
     "data": {
      "text/plain": [
       "(153L,)"
      ]
     },
     "execution_count": 47,
     "metadata": {},
     "output_type": "execute_result"
    }
   ],
   "source": [
    "y_train.shape"
   ]
  },
  {
   "cell_type": "code",
   "execution_count": 48,
   "metadata": {},
   "outputs": [
    {
     "data": {
      "text/plain": [
       "array([[48, 66,  0],\n",
       "       [57, 61,  0],\n",
       "       [37, 60,  0],\n",
       "       [52, 69,  3],\n",
       "       [76, 67,  0],\n",
       "       [66, 68,  0],\n",
       "       [62, 59, 13],\n",
       "       [53, 60,  1],\n",
       "       [34, 60,  0],\n",
       "       [38, 69, 21],\n",
       "       [49, 62,  0],\n",
       "       [45, 65,  6],\n",
       "       [33, 60,  0],\n",
       "       [67, 66,  0],\n",
       "       [43, 59,  2],\n",
       "       [77, 65,  3],\n",
       "       [41, 59,  8],\n",
       "       [41, 67,  0],\n",
       "       [63, 63,  0],\n",
       "       [55, 67,  1],\n",
       "       [54, 62,  0],\n",
       "       [49, 61,  1],\n",
       "       [54, 65,  5],\n",
       "       [52, 64,  0],\n",
       "       [43, 63,  2],\n",
       "       [53, 65,  1],\n",
       "       [75, 62,  1],\n",
       "       [35, 64, 13],\n",
       "       [46, 65, 20],\n",
       "       [57, 62,  0],\n",
       "       [64, 61,  0],\n",
       "       [38, 67,  5],\n",
       "       [49, 67,  1],\n",
       "       [42, 63,  1],\n",
       "       [61, 65,  0],\n",
       "       [50, 61,  0],\n",
       "       [41, 58,  0],\n",
       "       [41, 60, 23],\n",
       "       [54, 66,  0],\n",
       "       [73, 68,  0],\n",
       "       [63, 61,  0],\n",
       "       [58, 60,  3],\n",
       "       [65, 61,  2],\n",
       "       [45, 67,  0],\n",
       "       [43, 64,  3],\n",
       "       [58, 59,  0],\n",
       "       [63, 63,  0],\n",
       "       [62, 62,  6],\n",
       "       [60, 64,  0],\n",
       "       [48, 64,  0],\n",
       "       [60, 67,  2],\n",
       "       [30, 62,  3],\n",
       "       [47, 66,  0],\n",
       "       [46, 62,  5],\n",
       "       [34, 67,  7],\n",
       "       [50, 63, 13],\n",
       "       [43, 64,  0],\n",
       "       [50, 64,  0],\n",
       "       [57, 64,  0],\n",
       "       [53, 63, 24],\n",
       "       [34, 61, 10],\n",
       "       [47, 63,  6],\n",
       "       [39, 63,  4],\n",
       "       [61, 59,  0],\n",
       "       [55, 66,  0],\n",
       "       [53, 58,  1],\n",
       "       [65, 64,  0],\n",
       "       [36, 60,  1],\n",
       "       [63, 62,  0],\n",
       "       [69, 67,  8],\n",
       "       [40, 65,  0],\n",
       "       [74, 65,  3],\n",
       "       [43, 65,  0],\n",
       "       [52, 65,  0],\n",
       "       [43, 60,  0],\n",
       "       [59, 64,  7],\n",
       "       [63, 61,  9],\n",
       "       [49, 66,  0],\n",
       "       [45, 60,  0],\n",
       "       [47, 66, 12],\n",
       "       [50, 63,  1],\n",
       "       [47, 58,  3],\n",
       "       [69, 66,  0],\n",
       "       [45, 67,  1],\n",
       "       [64, 65, 22],\n",
       "       [50, 58,  1],\n",
       "       [46, 62,  0],\n",
       "       [51, 59,  1],\n",
       "       [66, 61, 13],\n",
       "       [69, 65,  0],\n",
       "       [51, 59,  3],\n",
       "       [60, 59, 17],\n",
       "       [60, 65,  0],\n",
       "       [47, 61,  0],\n",
       "       [54, 62,  0],\n",
       "       [41, 59,  0],\n",
       "       [50, 65,  4],\n",
       "       [67, 63,  1],\n",
       "       [42, 58,  0],\n",
       "       [37, 63,  0],\n",
       "       [54, 58,  1],\n",
       "       [45, 67,  1],\n",
       "       [43, 63, 14],\n",
       "       [58, 58,  0],\n",
       "       [37, 58,  0],\n",
       "       [56, 66,  2],\n",
       "       [73, 62,  0],\n",
       "       [72, 67,  3],\n",
       "       [51, 65,  0],\n",
       "       [60, 61, 25],\n",
       "       [46, 58,  2],\n",
       "       [48, 62,  2],\n",
       "       [66, 58,  0],\n",
       "       [83, 58,  2],\n",
       "       [52, 68,  0],\n",
       "       [48, 61,  8],\n",
       "       [70, 59,  8],\n",
       "       [68, 67,  0],\n",
       "       [58, 67,  0],\n",
       "       [37, 63,  0],\n",
       "       [70, 68,  0],\n",
       "       [59, 64,  0],\n",
       "       [46, 69,  3],\n",
       "       [44, 61,  0],\n",
       "       [48, 58, 11],\n",
       "       [52, 61,  0],\n",
       "       [54, 63, 19],\n",
       "       [39, 66,  0],\n",
       "       [55, 63,  6],\n",
       "       [45, 66,  0],\n",
       "       [42, 59,  2],\n",
       "       [49, 63,  3],\n",
       "       [38, 60,  0],\n",
       "       [58, 58,  3],\n",
       "       [56, 67,  0],\n",
       "       [58, 61,  2],\n",
       "       [55, 58,  1],\n",
       "       [44, 63,  1],\n",
       "       [57, 64,  0],\n",
       "       [56, 60,  0],\n",
       "       [43, 58, 52],\n",
       "       [59, 64,  1],\n",
       "       [57, 64,  9],\n",
       "       [39, 59,  2],\n",
       "       [74, 63,  0],\n",
       "       [52, 62,  3],\n",
       "       [38, 62,  3],\n",
       "       [65, 58,  0],\n",
       "       [52, 63,  4],\n",
       "       [30, 65,  0],\n",
       "       [62, 58,  0],\n",
       "       [38, 64,  1],\n",
       "       [52, 62,  1]], dtype=int64)"
      ]
     },
     "execution_count": 48,
     "metadata": {},
     "output_type": "execute_result"
    }
   ],
   "source": [
    "x_test"
   ]
  },
  {
   "cell_type": "code",
   "execution_count": 49,
   "metadata": {},
   "outputs": [
    {
     "data": {
      "text/plain": [
       "(153L, 3L)"
      ]
     },
     "execution_count": 49,
     "metadata": {},
     "output_type": "execute_result"
    }
   ],
   "source": [
    "x_test.shape"
   ]
  },
  {
   "cell_type": "code",
   "execution_count": 50,
   "metadata": {},
   "outputs": [
    {
     "data": {
      "text/plain": [
       "array([0, 0, 0, 1, 0, 0, 1, 0, 0, 1, 0, 1, 0, 0, 1, 0, 0, 1, 0, 0, 0, 0, 1,\n",
       "       0, 0, 1, 0, 0, 1, 0, 0, 0, 0, 0, 1, 0, 0, 1, 0, 0, 0, 0, 1, 0, 0, 0,\n",
       "       0, 0, 0, 0, 0, 0, 0, 1, 0, 1, 1, 0, 0, 1, 0, 0, 0, 0, 0, 0, 0, 0, 0,\n",
       "       1, 0, 1, 0, 0, 0, 0, 0, 0, 0, 0, 0, 0, 0, 0, 0, 0, 0, 0, 1, 0, 1, 1,\n",
       "       1, 0, 0, 0, 0, 1, 0, 0, 0, 1, 0, 0, 0, 0, 0, 0, 0, 0, 1, 0, 1, 1, 0,\n",
       "       0, 0, 0, 0, 0, 0, 0, 1, 0, 1, 0, 0, 1, 1, 1, 0, 0, 0, 0, 0, 0, 0, 0,\n",
       "       0, 0, 1, 0, 0, 0, 0, 1, 0, 0, 0, 0, 0, 0, 0], dtype=int64)"
      ]
     },
     "execution_count": 50,
     "metadata": {},
     "output_type": "execute_result"
    }
   ],
   "source": [
    "y_test"
   ]
  },
  {
   "cell_type": "code",
   "execution_count": 51,
   "metadata": {},
   "outputs": [
    {
     "data": {
      "text/plain": [
       "(153L,)"
      ]
     },
     "execution_count": 51,
     "metadata": {},
     "output_type": "execute_result"
    }
   ],
   "source": [
    "y_test.shape"
   ]
  },
  {
   "cell_type": "code",
   "execution_count": 52,
   "metadata": {},
   "outputs": [],
   "source": [
    "from sklearn.neighbors import KNeighborsClassifier"
   ]
  },
  {
   "cell_type": "code",
   "execution_count": 53,
   "metadata": {},
   "outputs": [],
   "source": [
    "#K-Nearest Neighbors Classifier (K = 3)\n",
    "clf = KNeighborsClassifier(3)"
   ]
  },
  {
   "cell_type": "code",
   "execution_count": 54,
   "metadata": {},
   "outputs": [],
   "source": [
    "fit = clf.fit(x_train, y_train)"
   ]
  },
  {
   "cell_type": "code",
   "execution_count": 55,
   "metadata": {},
   "outputs": [],
   "source": [
    "y_pre = fit.predict(x_test)"
   ]
  },
  {
   "cell_type": "code",
   "execution_count": 56,
   "metadata": {},
   "outputs": [
    {
     "data": {
      "text/plain": [
       "array([0, 0, 0, 0, 0, 0, 1, 0, 0, 0, 0, 1, 0, 0, 0, 1, 0, 0, 0, 0, 0, 0, 1,\n",
       "       0, 0, 0, 1, 0, 1, 0, 0, 0, 0, 1, 0, 0, 0, 1, 0, 0, 0, 0, 0, 0, 0, 0,\n",
       "       0, 0, 0, 1, 0, 0, 0, 0, 0, 1, 0, 1, 0, 1, 0, 0, 0, 0, 0, 1, 0, 0, 0,\n",
       "       0, 0, 0, 0, 0, 0, 0, 1, 0, 1, 1, 1, 0, 0, 0, 1, 0, 0, 0, 1, 0, 0, 1,\n",
       "       0, 0, 0, 0, 0, 0, 0, 0, 0, 0, 0, 0, 0, 1, 0, 0, 0, 1, 0, 0, 0, 1, 0,\n",
       "       1, 1, 0, 0, 0, 0, 0, 0, 0, 1, 0, 1, 0, 1, 0, 0, 1, 0, 0, 0, 0, 0, 0,\n",
       "       0, 0, 0, 0, 1, 0, 0, 0, 0, 0, 0, 0, 0, 0, 0], dtype=int64)"
      ]
     },
     "execution_count": 56,
     "metadata": {},
     "output_type": "execute_result"
    }
   ],
   "source": [
    "y_pre"
   ]
  },
  {
   "cell_type": "code",
   "execution_count": 57,
   "metadata": {},
   "outputs": [
    {
     "data": {
      "text/plain": [
       "(153L,)"
      ]
     },
     "execution_count": 57,
     "metadata": {},
     "output_type": "execute_result"
    }
   ],
   "source": [
    "y_pre.shape"
   ]
  },
  {
   "cell_type": "code",
   "execution_count": 58,
   "metadata": {},
   "outputs": [],
   "source": [
    "from sklearn.metrics import confusion_matrix"
   ]
  },
  {
   "cell_type": "code",
   "execution_count": 59,
   "metadata": {},
   "outputs": [
    {
     "name": "stdout",
     "output_type": "stream",
     "text": [
      "[[101  18]\n",
      " [ 22  12]]\n"
     ]
    }
   ],
   "source": [
    "#Confusion Matrix \n",
    "#K-Nearest Neighbors Classifier (K = 3)\n",
    "cm = confusion_matrix(y_test, y_pre)\n",
    "print cm"
   ]
  },
  {
   "cell_type": "code",
   "execution_count": 60,
   "metadata": {},
   "outputs": [],
   "source": [
    "from sklearn.metrics import classification_report"
   ]
  },
  {
   "cell_type": "code",
   "execution_count": 61,
   "metadata": {},
   "outputs": [
    {
     "name": "stdout",
     "output_type": "stream",
     "text": [
      "             precision    recall  f1-score   support\n",
      "\n",
      "          0       0.82      0.85      0.83       119\n",
      "          1       0.40      0.35      0.38        34\n",
      "\n",
      "avg / total       0.73      0.74      0.73       153\n",
      "\n"
     ]
    }
   ],
   "source": [
    "#Classification Report \n",
    "#K-Nearest Neighbors Classifier (K = 3)\n",
    "print classification_report(y_test, y_pre)"
   ]
  },
  {
   "cell_type": "code",
   "execution_count": 62,
   "metadata": {},
   "outputs": [
    {
     "name": "stdout",
     "output_type": "stream",
     "text": [
      "[Train/test split]: 0.73856\n"
     ]
    }
   ],
   "source": [
    "#Score with Single Train/Test Split\n",
    "#K-Nearest Neighbors Classifier (K = 3)\n",
    "print \"[Train/test split]: {:.5f}\".format(clf.score(x_test, y_test))"
   ]
  },
  {
   "cell_type": "code",
   "execution_count": 63,
   "metadata": {},
   "outputs": [],
   "source": [
    "#Parameter tuning\n",
    "from sklearn.neighbors import KNeighborsClassifier"
   ]
  },
  {
   "cell_type": "code",
   "execution_count": 64,
   "metadata": {},
   "outputs": [],
   "source": [
    "#K-Nearest Neighbors Classifier (K = 3, weights = 'distance')\n",
    "clf = KNeighborsClassifier(5, weights = 'distance')"
   ]
  },
  {
   "cell_type": "code",
   "execution_count": 65,
   "metadata": {},
   "outputs": [],
   "source": [
    "fit = clf.fit(x_train, y_train)"
   ]
  },
  {
   "cell_type": "code",
   "execution_count": 66,
   "metadata": {},
   "outputs": [],
   "source": [
    "y_pre = fit.predict(x_test)"
   ]
  },
  {
   "cell_type": "code",
   "execution_count": 67,
   "metadata": {},
   "outputs": [
    {
     "data": {
      "text/plain": [
       "array([[104,  15],\n",
       "       [ 22,  12]], dtype=int64)"
      ]
     },
     "execution_count": 67,
     "metadata": {},
     "output_type": "execute_result"
    }
   ],
   "source": [
    "#Confusion Matrix\n",
    "#K-Nearest Neighbors Classifier (K = 3, weights = 'distance')\n",
    "cm = confusion_matrix(y_test, y_pre)\n",
    "cm"
   ]
  },
  {
   "cell_type": "code",
   "execution_count": 68,
   "metadata": {},
   "outputs": [
    {
     "name": "stdout",
     "output_type": "stream",
     "text": [
      "             precision    recall  f1-score   support\n",
      "\n",
      "          0       0.83      0.87      0.85       119\n",
      "          1       0.44      0.35      0.39        34\n",
      "\n",
      "avg / total       0.74      0.76      0.75       153\n",
      "\n"
     ]
    }
   ],
   "source": [
    "#Classification Report \n",
    "#K-Nearest Neighbors Classifier (K = 3, weights = 'distance')\n",
    "print classification_report(y_test, y_pre)"
   ]
  },
  {
   "cell_type": "code",
   "execution_count": 69,
   "metadata": {},
   "outputs": [
    {
     "name": "stdout",
     "output_type": "stream",
     "text": [
      "[Train/test split]: 0.75817\n"
     ]
    }
   ],
   "source": [
    "#Score for single Train/Test Split\n",
    "#K-Nearest Neighbors Classifier (K = 3, weights = 'distance')\n",
    "print \"[Train/test split]: {:.5f}\".format(clf.score(x_test, y_test))"
   ]
  },
  {
   "cell_type": "code",
   "execution_count": 70,
   "metadata": {},
   "outputs": [],
   "source": [
    "from sklearn.neighbors import KNeighborsClassifier"
   ]
  },
  {
   "cell_type": "code",
   "execution_count": 71,
   "metadata": {},
   "outputs": [],
   "source": [
    "#K-Nearest Neighbors Classifier (K = 3, weights = 'distance', p = 1)\n",
    "clf = KNeighborsClassifier(5, weights = 'distance', p=1)"
   ]
  },
  {
   "cell_type": "code",
   "execution_count": 72,
   "metadata": {},
   "outputs": [],
   "source": [
    "fit = clf.fit(x_train, y_train)"
   ]
  },
  {
   "cell_type": "code",
   "execution_count": 73,
   "metadata": {},
   "outputs": [],
   "source": [
    "y_pre = fit.predict(x_test)"
   ]
  },
  {
   "cell_type": "code",
   "execution_count": 74,
   "metadata": {},
   "outputs": [
    {
     "data": {
      "text/plain": [
       "array([[101,  18],\n",
       "       [ 22,  12]], dtype=int64)"
      ]
     },
     "execution_count": 74,
     "metadata": {},
     "output_type": "execute_result"
    }
   ],
   "source": [
    "#Confusion Matrix\n",
    "#K-Nearest Neighbors Classifier (K = 3, weights = 'distance', p = 1)\n",
    "cm = confusion_matrix(y_test, y_pre)\n",
    "cm"
   ]
  },
  {
   "cell_type": "code",
   "execution_count": 75,
   "metadata": {},
   "outputs": [
    {
     "name": "stdout",
     "output_type": "stream",
     "text": [
      "             precision    recall  f1-score   support\n",
      "\n",
      "          0       0.82      0.85      0.83       119\n",
      "          1       0.40      0.35      0.38        34\n",
      "\n",
      "avg / total       0.73      0.74      0.73       153\n",
      "\n"
     ]
    }
   ],
   "source": [
    "#Classification Report\n",
    "#K-Nearest Neighbors Classifier (K = 3, weights = 'distance', p = 1)\n",
    "print classification_report(y_test, y_pre)"
   ]
  },
  {
   "cell_type": "code",
   "execution_count": 76,
   "metadata": {},
   "outputs": [
    {
     "name": "stdout",
     "output_type": "stream",
     "text": [
      "[Train/test split]: 0.73856\n"
     ]
    }
   ],
   "source": [
    "#Score for single Train/Test Split\n",
    "#K-Nearest Neighbors Classifier (K = 3, weights = 'distance', p = 1)\n",
    "print \"[Train/test split]: {:.5f}\".format(clf.score(x_test, y_test))"
   ]
  },
  {
   "cell_type": "code",
   "execution_count": null,
   "metadata": {},
   "outputs": [],
   "source": []
  },
  {
   "cell_type": "code",
   "execution_count": 77,
   "metadata": {},
   "outputs": [
    {
     "name": "stdout",
     "output_type": "stream",
     "text": [
      "[Train/test split] score: 0.73856\n"
     ]
    }
   ],
   "source": [
    "# K-fold cross-validation\n",
    "print \"[Train/test split] score: {:.5f}\".format(clf.score(x_test, y_test))"
   ]
  },
  {
   "cell_type": "code",
   "execution_count": 82,
   "metadata": {},
   "outputs": [],
   "source": [
    "from sklearn.model_selection import KFold"
   ]
  },
  {
   "cell_type": "code",
   "execution_count": 83,
   "metadata": {},
   "outputs": [],
   "source": [
    "kf = KFold(n_splits = 5, random_state = 4)"
   ]
  },
  {
   "cell_type": "code",
   "execution_count": 86,
   "metadata": {},
   "outputs": [
    {
     "name": "stdout",
     "output_type": "stream",
     "text": [
      "('TRAIN:', array([ 62,  63,  64,  65,  66,  67,  68,  69,  70,  71,  72,  73,  74,\n",
      "        75,  76,  77,  78,  79,  80,  81,  82,  83,  84,  85,  86,  87,\n",
      "        88,  89,  90,  91,  92,  93,  94,  95,  96,  97,  98,  99, 100,\n",
      "       101, 102, 103, 104, 105, 106, 107, 108, 109, 110, 111, 112, 113,\n",
      "       114, 115, 116, 117, 118, 119, 120, 121, 122, 123, 124, 125, 126,\n",
      "       127, 128, 129, 130, 131, 132, 133, 134, 135, 136, 137, 138, 139,\n",
      "       140, 141, 142, 143, 144, 145, 146, 147, 148, 149, 150, 151, 152,\n",
      "       153, 154, 155, 156, 157, 158, 159, 160, 161, 162, 163, 164, 165,\n",
      "       166, 167, 168, 169, 170, 171, 172, 173, 174, 175, 176, 177, 178,\n",
      "       179, 180, 181, 182, 183, 184, 185, 186, 187, 188, 189, 190, 191,\n",
      "       192, 193, 194, 195, 196, 197, 198, 199, 200, 201, 202, 203, 204,\n",
      "       205, 206, 207, 208, 209, 210, 211, 212, 213, 214, 215, 216, 217,\n",
      "       218, 219, 220, 221, 222, 223, 224, 225, 226, 227, 228, 229, 230,\n",
      "       231, 232, 233, 234, 235, 236, 237, 238, 239, 240, 241, 242, 243,\n",
      "       244, 245, 246, 247, 248, 249, 250, 251, 252, 253, 254, 255, 256,\n",
      "       257, 258, 259, 260, 261, 262, 263, 264, 265, 266, 267, 268, 269,\n",
      "       270, 271, 272, 273, 274, 275, 276, 277, 278, 279, 280, 281, 282,\n",
      "       283, 284, 285, 286, 287, 288, 289, 290, 291, 292, 293, 294, 295,\n",
      "       296, 297, 298, 299, 300, 301, 302, 303, 304, 305], dtype=int64), 'TEST:', array([ 0,  1,  2,  3,  4,  5,  6,  7,  8,  9, 10, 11, 12, 13, 14, 15, 16,\n",
      "       17, 18, 19, 20, 21, 22, 23, 24, 25, 26, 27, 28, 29, 30, 31, 32, 33,\n",
      "       34, 35, 36, 37, 38, 39, 40, 41, 42, 43, 44, 45, 46, 47, 48, 49, 50,\n",
      "       51, 52, 53, 54, 55, 56, 57, 58, 59, 60, 61], dtype=int64))\n",
      "('TRAIN:', array([  0,   1,   2,   3,   4,   5,   6,   7,   8,   9,  10,  11,  12,\n",
      "        13,  14,  15,  16,  17,  18,  19,  20,  21,  22,  23,  24,  25,\n",
      "        26,  27,  28,  29,  30,  31,  32,  33,  34,  35,  36,  37,  38,\n",
      "        39,  40,  41,  42,  43,  44,  45,  46,  47,  48,  49,  50,  51,\n",
      "        52,  53,  54,  55,  56,  57,  58,  59,  60,  61, 123, 124, 125,\n",
      "       126, 127, 128, 129, 130, 131, 132, 133, 134, 135, 136, 137, 138,\n",
      "       139, 140, 141, 142, 143, 144, 145, 146, 147, 148, 149, 150, 151,\n",
      "       152, 153, 154, 155, 156, 157, 158, 159, 160, 161, 162, 163, 164,\n",
      "       165, 166, 167, 168, 169, 170, 171, 172, 173, 174, 175, 176, 177,\n",
      "       178, 179, 180, 181, 182, 183, 184, 185, 186, 187, 188, 189, 190,\n",
      "       191, 192, 193, 194, 195, 196, 197, 198, 199, 200, 201, 202, 203,\n",
      "       204, 205, 206, 207, 208, 209, 210, 211, 212, 213, 214, 215, 216,\n",
      "       217, 218, 219, 220, 221, 222, 223, 224, 225, 226, 227, 228, 229,\n",
      "       230, 231, 232, 233, 234, 235, 236, 237, 238, 239, 240, 241, 242,\n",
      "       243, 244, 245, 246, 247, 248, 249, 250, 251, 252, 253, 254, 255,\n",
      "       256, 257, 258, 259, 260, 261, 262, 263, 264, 265, 266, 267, 268,\n",
      "       269, 270, 271, 272, 273, 274, 275, 276, 277, 278, 279, 280, 281,\n",
      "       282, 283, 284, 285, 286, 287, 288, 289, 290, 291, 292, 293, 294,\n",
      "       295, 296, 297, 298, 299, 300, 301, 302, 303, 304, 305], dtype=int64), 'TEST:', array([ 62,  63,  64,  65,  66,  67,  68,  69,  70,  71,  72,  73,  74,\n",
      "        75,  76,  77,  78,  79,  80,  81,  82,  83,  84,  85,  86,  87,\n",
      "        88,  89,  90,  91,  92,  93,  94,  95,  96,  97,  98,  99, 100,\n",
      "       101, 102, 103, 104, 105, 106, 107, 108, 109, 110, 111, 112, 113,\n",
      "       114, 115, 116, 117, 118, 119, 120, 121, 122], dtype=int64))\n",
      "('TRAIN:', array([  0,   1,   2,   3,   4,   5,   6,   7,   8,   9,  10,  11,  12,\n",
      "        13,  14,  15,  16,  17,  18,  19,  20,  21,  22,  23,  24,  25,\n",
      "        26,  27,  28,  29,  30,  31,  32,  33,  34,  35,  36,  37,  38,\n",
      "        39,  40,  41,  42,  43,  44,  45,  46,  47,  48,  49,  50,  51,\n",
      "        52,  53,  54,  55,  56,  57,  58,  59,  60,  61,  62,  63,  64,\n",
      "        65,  66,  67,  68,  69,  70,  71,  72,  73,  74,  75,  76,  77,\n",
      "        78,  79,  80,  81,  82,  83,  84,  85,  86,  87,  88,  89,  90,\n",
      "        91,  92,  93,  94,  95,  96,  97,  98,  99, 100, 101, 102, 103,\n",
      "       104, 105, 106, 107, 108, 109, 110, 111, 112, 113, 114, 115, 116,\n",
      "       117, 118, 119, 120, 121, 122, 184, 185, 186, 187, 188, 189, 190,\n",
      "       191, 192, 193, 194, 195, 196, 197, 198, 199, 200, 201, 202, 203,\n",
      "       204, 205, 206, 207, 208, 209, 210, 211, 212, 213, 214, 215, 216,\n",
      "       217, 218, 219, 220, 221, 222, 223, 224, 225, 226, 227, 228, 229,\n",
      "       230, 231, 232, 233, 234, 235, 236, 237, 238, 239, 240, 241, 242,\n",
      "       243, 244, 245, 246, 247, 248, 249, 250, 251, 252, 253, 254, 255,\n",
      "       256, 257, 258, 259, 260, 261, 262, 263, 264, 265, 266, 267, 268,\n",
      "       269, 270, 271, 272, 273, 274, 275, 276, 277, 278, 279, 280, 281,\n",
      "       282, 283, 284, 285, 286, 287, 288, 289, 290, 291, 292, 293, 294,\n",
      "       295, 296, 297, 298, 299, 300, 301, 302, 303, 304, 305], dtype=int64), 'TEST:', array([123, 124, 125, 126, 127, 128, 129, 130, 131, 132, 133, 134, 135,\n",
      "       136, 137, 138, 139, 140, 141, 142, 143, 144, 145, 146, 147, 148,\n",
      "       149, 150, 151, 152, 153, 154, 155, 156, 157, 158, 159, 160, 161,\n",
      "       162, 163, 164, 165, 166, 167, 168, 169, 170, 171, 172, 173, 174,\n",
      "       175, 176, 177, 178, 179, 180, 181, 182, 183], dtype=int64))\n",
      "('TRAIN:', array([  0,   1,   2,   3,   4,   5,   6,   7,   8,   9,  10,  11,  12,\n",
      "        13,  14,  15,  16,  17,  18,  19,  20,  21,  22,  23,  24,  25,\n",
      "        26,  27,  28,  29,  30,  31,  32,  33,  34,  35,  36,  37,  38,\n",
      "        39,  40,  41,  42,  43,  44,  45,  46,  47,  48,  49,  50,  51,\n",
      "        52,  53,  54,  55,  56,  57,  58,  59,  60,  61,  62,  63,  64,\n",
      "        65,  66,  67,  68,  69,  70,  71,  72,  73,  74,  75,  76,  77,\n",
      "        78,  79,  80,  81,  82,  83,  84,  85,  86,  87,  88,  89,  90,\n",
      "        91,  92,  93,  94,  95,  96,  97,  98,  99, 100, 101, 102, 103,\n",
      "       104, 105, 106, 107, 108, 109, 110, 111, 112, 113, 114, 115, 116,\n",
      "       117, 118, 119, 120, 121, 122, 123, 124, 125, 126, 127, 128, 129,\n",
      "       130, 131, 132, 133, 134, 135, 136, 137, 138, 139, 140, 141, 142,\n",
      "       143, 144, 145, 146, 147, 148, 149, 150, 151, 152, 153, 154, 155,\n",
      "       156, 157, 158, 159, 160, 161, 162, 163, 164, 165, 166, 167, 168,\n",
      "       169, 170, 171, 172, 173, 174, 175, 176, 177, 178, 179, 180, 181,\n",
      "       182, 183, 245, 246, 247, 248, 249, 250, 251, 252, 253, 254, 255,\n",
      "       256, 257, 258, 259, 260, 261, 262, 263, 264, 265, 266, 267, 268,\n",
      "       269, 270, 271, 272, 273, 274, 275, 276, 277, 278, 279, 280, 281,\n",
      "       282, 283, 284, 285, 286, 287, 288, 289, 290, 291, 292, 293, 294,\n",
      "       295, 296, 297, 298, 299, 300, 301, 302, 303, 304, 305], dtype=int64), 'TEST:', array([184, 185, 186, 187, 188, 189, 190, 191, 192, 193, 194, 195, 196,\n",
      "       197, 198, 199, 200, 201, 202, 203, 204, 205, 206, 207, 208, 209,\n",
      "       210, 211, 212, 213, 214, 215, 216, 217, 218, 219, 220, 221, 222,\n",
      "       223, 224, 225, 226, 227, 228, 229, 230, 231, 232, 233, 234, 235,\n",
      "       236, 237, 238, 239, 240, 241, 242, 243, 244], dtype=int64))\n",
      "('TRAIN:', array([  0,   1,   2,   3,   4,   5,   6,   7,   8,   9,  10,  11,  12,\n",
      "        13,  14,  15,  16,  17,  18,  19,  20,  21,  22,  23,  24,  25,\n",
      "        26,  27,  28,  29,  30,  31,  32,  33,  34,  35,  36,  37,  38,\n",
      "        39,  40,  41,  42,  43,  44,  45,  46,  47,  48,  49,  50,  51,\n",
      "        52,  53,  54,  55,  56,  57,  58,  59,  60,  61,  62,  63,  64,\n",
      "        65,  66,  67,  68,  69,  70,  71,  72,  73,  74,  75,  76,  77,\n",
      "        78,  79,  80,  81,  82,  83,  84,  85,  86,  87,  88,  89,  90,\n",
      "        91,  92,  93,  94,  95,  96,  97,  98,  99, 100, 101, 102, 103,\n",
      "       104, 105, 106, 107, 108, 109, 110, 111, 112, 113, 114, 115, 116,\n",
      "       117, 118, 119, 120, 121, 122, 123, 124, 125, 126, 127, 128, 129,\n",
      "       130, 131, 132, 133, 134, 135, 136, 137, 138, 139, 140, 141, 142,\n",
      "       143, 144, 145, 146, 147, 148, 149, 150, 151, 152, 153, 154, 155,\n",
      "       156, 157, 158, 159, 160, 161, 162, 163, 164, 165, 166, 167, 168,\n",
      "       169, 170, 171, 172, 173, 174, 175, 176, 177, 178, 179, 180, 181,\n",
      "       182, 183, 184, 185, 186, 187, 188, 189, 190, 191, 192, 193, 194,\n",
      "       195, 196, 197, 198, 199, 200, 201, 202, 203, 204, 205, 206, 207,\n",
      "       208, 209, 210, 211, 212, 213, 214, 215, 216, 217, 218, 219, 220,\n",
      "       221, 222, 223, 224, 225, 226, 227, 228, 229, 230, 231, 232, 233,\n",
      "       234, 235, 236, 237, 238, 239, 240, 241, 242, 243, 244], dtype=int64), 'TEST:', array([245, 246, 247, 248, 249, 250, 251, 252, 253, 254, 255, 256, 257,\n",
      "       258, 259, 260, 261, 262, 263, 264, 265, 266, 267, 268, 269, 270,\n",
      "       271, 272, 273, 274, 275, 276, 277, 278, 279, 280, 281, 282, 283,\n",
      "       284, 285, 286, 287, 288, 289, 290, 291, 292, 293, 294, 295, 296,\n",
      "       297, 298, 299, 300, 301, 302, 303, 304, 305], dtype=int64))\n"
     ]
    }
   ],
   "source": [
    "for train_index, test_index in kf.split(survival_data):\n",
    "    print(\"TRAIN:\", train_index, \"TEST:\", test_index)\n",
    "    x_train, x_test = survival_data[train_index], survival_data[test_index]\n",
    "    y_train, y_test = survival_target[train_index], survival_target[test_index]"
   ]
  },
  {
   "cell_type": "code",
   "execution_count": 89,
   "metadata": {},
   "outputs": [
    {
     "name": "stdout",
     "output_type": "stream",
     "text": [
      "[fold 0] score: 0.67742\n",
      "[fold 1] score: 0.67213\n",
      "[fold 2] score: 0.72131\n",
      "[fold 3] score: 0.72131\n",
      "[fold 4] score: 0.73770\n"
     ]
    }
   ],
   "source": [
    "for k, (train_index, test_index) in enumerate(kf.split(survival_data)):\n",
    "    \n",
    "    x_train, x_test = survival_data[train_index], survival_data[test_index]\n",
    "    y_train, y_test = survival_target[train_index], survival_target[test_index]\n",
    "    \n",
    "    clf.fit(x_train, y_train)\n",
    "    print \"[fold {0}] score: {1:.5f}\".format(k, clf.score(x_test, y_test))"
   ]
  },
  {
   "cell_type": "code",
   "execution_count": null,
   "metadata": {},
   "outputs": [],
   "source": []
  },
  {
   "cell_type": "code",
   "execution_count": null,
   "metadata": {},
   "outputs": [],
   "source": []
  }
 ],
 "metadata": {
  "celltoolbar": "Tags",
  "kernelspec": {
   "display_name": "Python 2",
   "language": "python",
   "name": "python2"
  },
  "language_info": {
   "codemirror_mode": {
    "name": "ipython",
    "version": 2
   },
   "file_extension": ".py",
   "mimetype": "text/x-python",
   "name": "python",
   "nbconvert_exporter": "python",
   "pygments_lexer": "ipython2",
   "version": "2.7.14"
  }
 },
 "nbformat": 4,
 "nbformat_minor": 2
}
